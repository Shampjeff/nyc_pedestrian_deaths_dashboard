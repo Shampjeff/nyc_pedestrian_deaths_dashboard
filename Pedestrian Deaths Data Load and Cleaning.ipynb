{
 "cells": [
  {
   "cell_type": "markdown",
   "metadata": {
    "toc": true
   },
   "source": [
    "<h1>Table of Contents<span class=\"tocSkip\"></span></h1>\n",
    "<div class=\"toc\"><ul class=\"toc-item\"><li><span><a href=\"#Load-Keys\" data-toc-modified-id=\"Load-Keys-1\"><span class=\"toc-item-num\">1&nbsp;&nbsp;</span>Load Keys</a></span></li><li><span><a href=\"#Get-Data\" data-toc-modified-id=\"Get-Data-2\"><span class=\"toc-item-num\">2&nbsp;&nbsp;</span>Get Data</a></span></li><li><span><a href=\"#Borough-Assignment\" data-toc-modified-id=\"Borough-Assignment-3\"><span class=\"toc-item-num\">3&nbsp;&nbsp;</span>Borough Assignment</a></span><ul class=\"toc-item\"><li><span><a href=\"#Borough-Assignment-by-Road-Type\" data-toc-modified-id=\"Borough-Assignment-by-Road-Type-3.1\"><span class=\"toc-item-num\">3.1&nbsp;&nbsp;</span>Borough Assignment by Road Type</a></span></li></ul></li><li><span><a href=\"#Cleaned-Final-Data\" data-toc-modified-id=\"Cleaned-Final-Data-4\"><span class=\"toc-item-num\">4&nbsp;&nbsp;</span>Cleaned Final Data</a></span><ul class=\"toc-item\"><li><span><a href=\"#Write-to-CSV\" data-toc-modified-id=\"Write-to-CSV-4.1\"><span class=\"toc-item-num\">4.1&nbsp;&nbsp;</span>Write to CSV</a></span></li></ul></li></ul></div>"
   ]
  },
  {
   "cell_type": "markdown",
   "metadata": {},
   "source": [
    "# Cyclist and Pedestrain Deaths NYC"
   ]
  },
  {
   "cell_type": "markdown",
   "metadata": {},
   "source": [
    "Collecting pedestrain and cyclist death by motor vehicle collision data via the NYC Open Data API. Not all boroughs have been properly assigned so we will attempt to assign as many as we can. Once the data is in a good place, we can build out an interactive dashboard in Bokeh to visualize."
   ]
  },
  {
   "cell_type": "markdown",
   "metadata": {
    "heading_collapsed": true
   },
   "source": [
    "## Load Keys"
   ]
  },
  {
   "cell_type": "code",
   "execution_count": 48,
   "metadata": {
    "hidden": true
   },
   "outputs": [],
   "source": [
    "import json\n",
    "with open('keys.json') as f:\n",
    "    keys = json.load(f)\n",
    "    nyc_od_token = keys['nycOD']"
   ]
  },
  {
   "cell_type": "markdown",
   "metadata": {
    "heading_collapsed": true
   },
   "source": [
    "## Get Data"
   ]
  },
  {
   "cell_type": "markdown",
   "metadata": {
    "hidden": true
   },
   "source": [
    "First we need to access the NYC Open Data API via an App Token. We can then easily pull in the data on motor vehicle incidents with pedestrains and cyclists. "
   ]
  },
  {
   "cell_type": "code",
   "execution_count": 1,
   "metadata": {
    "hidden": true
   },
   "outputs": [],
   "source": [
    "# make sure to install these packages before running:\n",
    "# pip install sodapy\n",
    "# pip install reverse_geocoder\n",
    "import numpy as np \n",
    "import pandas as pd \n",
    "import matplotlib.pyplot as plt\n",
    "import pandas as pd\n",
    "import os\n",
    "import re\n",
    "from sodapy import Socrata"
   ]
  },
  {
   "cell_type": "code",
   "execution_count": 49,
   "metadata": {
    "hidden": true
   },
   "outputs": [],
   "source": [
    "# Go to NYC Open Data website and create an App token to access the aPI\n",
    "client = Socrata(\"data.cityofnewyork.us\",\n",
    "                app_token=nyc_od_token)"
   ]
  },
  {
   "cell_type": "markdown",
   "metadata": {
    "hidden": true
   },
   "source": [
    "Socrata has a nice functionality where users can simply query, SQL style, to extract information. It seems like it only accepts basic SQL commands so we will pull down a few columns and use Pandas for the analysis. "
   ]
  },
  {
   "cell_type": "code",
   "execution_count": 50,
   "metadata": {
    "hidden": true
   },
   "outputs": [],
   "source": [
    "peds_query = \"\"\"\n",
    "SELECT  \n",
    "    borough, crash_date, location, \n",
    "    longitude, latitude, on_street_name, \n",
    "    off_street_name,cross_street_name,\n",
    "    number_of_pedestrians_killed, number_of_cyclist_killed,\n",
    "    contributing_factor_vehicle_1, vehicle_type_code1\n",
    "WHERE number_of_pedestrians_killed > 0\n",
    "   OR number_of_cyclist_killed > 0\n",
    "LIMIT 2000\n",
    "\"\"\"\n"
   ]
  },
  {
   "cell_type": "code",
   "execution_count": 51,
   "metadata": {
    "hidden": true
   },
   "outputs": [],
   "source": [
    "# Returned as JSON from API / converted to Python list of\n",
    "# dictionaries by sodapy.\n",
    "results = client.get(\"h9gi-nx95\",\n",
    "                    query=peds_query)"
   ]
  },
  {
   "cell_type": "code",
   "execution_count": 52,
   "metadata": {
    "hidden": true
   },
   "outputs": [],
   "source": [
    "# Convert to pandas DataFrame\n",
    "results_df = pd.DataFrame.from_records(results)"
   ]
  },
  {
   "cell_type": "code",
   "execution_count": 53,
   "metadata": {
    "hidden": true
   },
   "outputs": [
    {
     "data": {
      "text/plain": [
       "(1198, 12)"
      ]
     },
     "execution_count": 53,
     "metadata": {},
     "output_type": "execute_result"
    }
   ],
   "source": [
    "results_df.shape"
   ]
  },
  {
   "cell_type": "code",
   "execution_count": 7,
   "metadata": {
    "hidden": true
   },
   "outputs": [],
   "source": [
    "results_df['year'] = pd.DatetimeIndex(results_df['crash_date']).year\n",
    "results_df['month'] = pd.DatetimeIndex(results_df['crash_date']).month\n",
    "results_df['day'] = pd.DatetimeIndex(results_df['crash_date']).dayofweek\n",
    "results_df['date'] = pd.DatetimeIndex(results_df['crash_date']).date\n"
   ]
  },
  {
   "cell_type": "code",
   "execution_count": 8,
   "metadata": {
    "hidden": true
   },
   "outputs": [
    {
     "data": {
      "text/plain": [
       "2012     78\n",
       "2013    184\n",
       "2014    153\n",
       "2015    146\n",
       "2016    166\n",
       "2017    146\n",
       "2018    130\n",
       "2019    159\n",
       "2020     36\n",
       "Name: year, dtype: int64"
      ]
     },
     "execution_count": 8,
     "metadata": {},
     "output_type": "execute_result"
    }
   ],
   "source": [
    "results_df.year.value_counts(sort=False)"
   ]
  },
  {
   "cell_type": "code",
   "execution_count": 9,
   "metadata": {
    "hidden": true
   },
   "outputs": [
    {
     "data": {
      "text/plain": [
       "NaN              346\n",
       "BROOKLYN         281\n",
       "QUEENS           241\n",
       "MANHATTAN        192\n",
       "BRONX            107\n",
       "STATEN ISLAND     31\n",
       "Name: borough, dtype: int64"
      ]
     },
     "execution_count": 9,
     "metadata": {},
     "output_type": "execute_result"
    }
   ],
   "source": [
    "results_df.borough.value_counts(dropna=False)"
   ]
  },
  {
   "cell_type": "code",
   "execution_count": 10,
   "metadata": {
    "hidden": true
   },
   "outputs": [],
   "source": [
    "results_df = results_df[['borough','year','month','day', 'date',\n",
    "                         'location', 'latitude', 'longitude',\n",
    "                         'cross_street_name','off_street_name', \n",
    "                         'on_street_name', 'vehicle_type_code1', \n",
    "                         'contributing_factor_vehicle_1', \n",
    "                         'number_of_cyclist_killed', \n",
    "                         'number_of_pedestrians_killed']]"
   ]
  },
  {
   "cell_type": "markdown",
   "metadata": {
    "heading_collapsed": true
   },
   "source": [
    "## Borough Assignment"
   ]
  },
  {
   "cell_type": "markdown",
   "metadata": {
    "hidden": true
   },
   "source": [
    "Many incidents do not have borough assignments, but we want to the know borough assignment for downstream analysis. The data have longitude, latitude values that we can geo-locate, but not all cases have location data. "
   ]
  },
  {
   "cell_type": "code",
   "execution_count": 11,
   "metadata": {
    "hidden": true
   },
   "outputs": [],
   "source": [
    "import reverse_geocoder as rg"
   ]
  },
  {
   "cell_type": "code",
   "execution_count": 12,
   "metadata": {
    "hidden": true
   },
   "outputs": [],
   "source": [
    "def make_borough_gps(row):\n",
    "    dict_idx = 0 # one OrderedDict in a list\n",
    "    borough = 4 # Fourth key is borough\n",
    "    name = 1 # value index for key/value pair\n",
    "    cord = (row['coordinates'][1],row['coordinates'][0])\n",
    "    location = rg.search(cord)\n",
    "    label = list(location[dict_idx].items())[borough][name]\n",
    "    if label == 'Kings County': \n",
    "        return 'BROOKLYN'\n",
    "    if label == 'Queens County':\n",
    "        return 'QUEENS'\n",
    "    if label == 'New York County':\n",
    "        return 'MANHATTAN'\n",
    "    if label == 'Bronx':\n",
    "        return 'BRONX'\n",
    "    if label == 'Richmond County':\n",
    "        return 'STATEN ISLAND'\n",
    "    else: label = 'NOT NYC'\n",
    "    return label"
   ]
  },
  {
   "cell_type": "code",
   "execution_count": 13,
   "metadata": {
    "hidden": true
   },
   "outputs": [
    {
     "name": "stdout",
     "output_type": "stream",
     "text": [
      "Loading formatted geocoded file...\n"
     ]
    }
   ],
   "source": [
    "results_df['borough_gps'] = results_df['location'].dropna().apply(lambda x: make_borough_gps(x))"
   ]
  },
  {
   "cell_type": "code",
   "execution_count": 14,
   "metadata": {
    "hidden": true
   },
   "outputs": [
    {
     "data": {
      "text/plain": [
       "BROOKLYN         295\n",
       "QUEENS           286\n",
       "NOT NYC          188\n",
       "MANHATTAN        163\n",
       "NaN              145\n",
       "BRONX             96\n",
       "STATEN ISLAND     25\n",
       "Name: borough_gps, dtype: int64"
      ]
     },
     "execution_count": 14,
     "metadata": {},
     "output_type": "execute_result"
    }
   ],
   "source": [
    "results_df.borough_gps.value_counts(dropna=False)"
   ]
  },
  {
   "cell_type": "code",
   "execution_count": 15,
   "metadata": {
    "hidden": true
   },
   "outputs": [
    {
     "name": "stdout",
     "output_type": "stream",
     "text": [
      "<class 'pandas.core.frame.DataFrame'>\n",
      "Int64Index: 236 entries, 0 to 1195\n",
      "Data columns (total 2 columns):\n",
      "borough        0 non-null object\n",
      "borough_gps    236 non-null object\n",
      "dtypes: object(2)\n",
      "memory usage: 5.5+ KB\n"
     ]
    }
   ],
   "source": [
    "results_df[(results_df['borough'] != results_df['borough_gps']) & \n",
    "           (results_df['borough_gps'].isna() != True) & \n",
    "           (results_df['borough'].isna() == True)][['borough', 'borough_gps']].info()"
   ]
  },
  {
   "cell_type": "markdown",
   "metadata": {
    "hidden": true
   },
   "source": [
    "There are 236 places where we can fill by the GPS location uncontested. There are more unknowns to fill though since there are many incidents where the GPS location differs from the reported borough. There also places where no location data is present. "
   ]
  },
  {
   "cell_type": "code",
   "execution_count": 16,
   "metadata": {
    "hidden": true
   },
   "outputs": [
    {
     "name": "stdout",
     "output_type": "stream",
     "text": [
      "<class 'pandas.core.frame.DataFrame'>\n",
      "Int64Index: 249 entries, 5 to 1194\n",
      "Data columns (total 2 columns):\n",
      "borough        249 non-null object\n",
      "borough_gps    249 non-null object\n",
      "dtypes: object(2)\n",
      "memory usage: 5.8+ KB\n"
     ]
    }
   ],
   "source": [
    "results_df[(results_df['borough'] != results_df['borough_gps']) & \n",
    "           (results_df['borough_gps'].isna() != True) &\n",
    "           (results_df['borough'].isna() != True)][['borough', 'borough_gps']].info()"
   ]
  },
  {
   "cell_type": "markdown",
   "metadata": {
    "hidden": true
   },
   "source": [
    "249 incidents where the GPS location differs from the reported borough. We will keep the reported borough as the correct assignment. It should be noted that the police do not always report incidents and locations correctly, but for this analysis we will keep those assignments. "
   ]
  },
  {
   "cell_type": "code",
   "execution_count": 17,
   "metadata": {
    "hidden": true
   },
   "outputs": [],
   "source": [
    "results_df.loc[results_df.borough.isna() == True, 'borough'] = \\\n",
    "    results_df.loc[results_df.borough.isna() == True, 'borough_gps']"
   ]
  },
  {
   "cell_type": "code",
   "execution_count": 18,
   "metadata": {
    "hidden": true
   },
   "outputs": [
    {
     "data": {
      "text/plain": [
       "BROOKLYN         333\n",
       "QUEENS           308\n",
       "MANHATTAN        236\n",
       "BRONX            138\n",
       "NaN              110\n",
       "STATEN ISLAND     38\n",
       "NOT NYC           35\n",
       "Name: borough, dtype: int64"
      ]
     },
     "execution_count": 18,
     "metadata": {},
     "output_type": "execute_result"
    }
   ],
   "source": [
    "results_df.borough.value_counts(dropna=False)"
   ]
  },
  {
   "cell_type": "markdown",
   "metadata": {
    "hidden": true
   },
   "source": [
    "145 cases where there is no GPS or borough information. These cases could be decided by street names if those are present. We are down to the by-hand work. The geo-locator seems to have only medium reliable so we will keep it in here and potentially reassign borough based on street. "
   ]
  },
  {
   "cell_type": "markdown",
   "metadata": {
    "hidden": true
   },
   "source": [
    "### Borough Assignment by Road Type"
   ]
  },
  {
   "cell_type": "markdown",
   "metadata": {
    "hidden": true
   },
   "source": [
    "We will now filter down the dataframe by street columns to determine borough assignment. This is mainly to try and break this down into small pieces for assignment. "
   ]
  },
  {
   "cell_type": "code",
   "execution_count": 19,
   "metadata": {
    "hidden": true,
    "scrolled": true
   },
   "outputs": [],
   "source": [
    "missing_boro_df = results_df.loc[(results_df.borough.isna() == True) |\n",
    "                                 (results_df.borough == 'NOT NYC'), :] \\\n",
    "                                [['location', 'on_street_name', 'off_street_name', \n",
    "                                  'cross_street_name', 'borough', 'borough_gps', \n",
    "                                  'latitude', 'longitude']]"
   ]
  },
  {
   "cell_type": "code",
   "execution_count": 20,
   "metadata": {
    "hidden": true,
    "scrolled": true
   },
   "outputs": [
    {
     "data": {
      "text/html": [
       "<div>\n",
       "<style scoped>\n",
       "    .dataframe tbody tr th:only-of-type {\n",
       "        vertical-align: middle;\n",
       "    }\n",
       "\n",
       "    .dataframe tbody tr th {\n",
       "        vertical-align: top;\n",
       "    }\n",
       "\n",
       "    .dataframe thead th {\n",
       "        text-align: right;\n",
       "    }\n",
       "</style>\n",
       "<table border=\"1\" class=\"dataframe\">\n",
       "  <thead>\n",
       "    <tr style=\"text-align: right;\">\n",
       "      <th></th>\n",
       "      <th>location</th>\n",
       "      <th>on_street_name</th>\n",
       "      <th>off_street_name</th>\n",
       "      <th>cross_street_name</th>\n",
       "      <th>borough</th>\n",
       "      <th>borough_gps</th>\n",
       "      <th>latitude</th>\n",
       "      <th>longitude</th>\n",
       "    </tr>\n",
       "  </thead>\n",
       "  <tbody>\n",
       "    <tr>\n",
       "      <th>6</th>\n",
       "      <td>{'type': 'Point', 'coordinates': [-73.98257, 4...</td>\n",
       "      <td>EAST 14 STREET</td>\n",
       "      <td>NaN</td>\n",
       "      <td>NaN</td>\n",
       "      <td>NOT NYC</td>\n",
       "      <td>NOT NYC</td>\n",
       "      <td>40.7313600</td>\n",
       "      <td>-73.9825700</td>\n",
       "    </tr>\n",
       "    <tr>\n",
       "      <th>54</th>\n",
       "      <td>{'type': 'Point', 'coordinates': [-73.988205, ...</td>\n",
       "      <td>PEARL STREET</td>\n",
       "      <td>NaN</td>\n",
       "      <td>NaN</td>\n",
       "      <td>NOT NYC</td>\n",
       "      <td>NOT NYC</td>\n",
       "      <td>40.6922650</td>\n",
       "      <td>-73.9882050</td>\n",
       "    </tr>\n",
       "    <tr>\n",
       "      <th>134</th>\n",
       "      <td>{'type': 'Point', 'coordinates': [-73.99266, 4...</td>\n",
       "      <td>EAST 16 STREET</td>\n",
       "      <td>NaN</td>\n",
       "      <td>NaN</td>\n",
       "      <td>NOT NYC</td>\n",
       "      <td>NOT NYC</td>\n",
       "      <td>40.7373280</td>\n",
       "      <td>-73.9926600</td>\n",
       "    </tr>\n",
       "    <tr>\n",
       "      <th>183</th>\n",
       "      <td>{'type': 'Point', 'coordinates': [-73.964966, ...</td>\n",
       "      <td>WEST 116 STREET</td>\n",
       "      <td>NaN</td>\n",
       "      <td>NaN</td>\n",
       "      <td>NOT NYC</td>\n",
       "      <td>NOT NYC</td>\n",
       "      <td>40.8084830</td>\n",
       "      <td>-73.9649660</td>\n",
       "    </tr>\n",
       "    <tr>\n",
       "      <th>207</th>\n",
       "      <td>{'type': 'Point', 'coordinates': [-73.99491, 4...</td>\n",
       "      <td>DOUGLASS STREET</td>\n",
       "      <td>NaN</td>\n",
       "      <td>NaN</td>\n",
       "      <td>NOT NYC</td>\n",
       "      <td>NOT NYC</td>\n",
       "      <td>40.6844300</td>\n",
       "      <td>-73.9949100</td>\n",
       "    </tr>\n",
       "  </tbody>\n",
       "</table>\n",
       "</div>"
      ],
      "text/plain": [
       "                                              location  \\\n",
       "6    {'type': 'Point', 'coordinates': [-73.98257, 4...   \n",
       "54   {'type': 'Point', 'coordinates': [-73.988205, ...   \n",
       "134  {'type': 'Point', 'coordinates': [-73.99266, 4...   \n",
       "183  {'type': 'Point', 'coordinates': [-73.964966, ...   \n",
       "207  {'type': 'Point', 'coordinates': [-73.99491, 4...   \n",
       "\n",
       "                       on_street_name off_street_name cross_street_name  \\\n",
       "6    EAST 14 STREET                               NaN               NaN   \n",
       "54   PEARL STREET                                 NaN               NaN   \n",
       "134  EAST 16 STREET                               NaN               NaN   \n",
       "183  WEST 116 STREET                              NaN               NaN   \n",
       "207  DOUGLASS STREET                              NaN               NaN   \n",
       "\n",
       "     borough borough_gps    latitude    longitude  \n",
       "6    NOT NYC     NOT NYC  40.7313600  -73.9825700  \n",
       "54   NOT NYC     NOT NYC  40.6922650  -73.9882050  \n",
       "134  NOT NYC     NOT NYC  40.7373280  -73.9926600  \n",
       "183  NOT NYC     NOT NYC  40.8084830  -73.9649660  \n",
       "207  NOT NYC     NOT NYC  40.6844300  -73.9949100  "
      ]
     },
     "execution_count": 20,
     "metadata": {},
     "output_type": "execute_result"
    }
   ],
   "source": [
    "missing_boro_df[missing_boro_df.on_street_name.str.contains('STREET', regex=True, na=False)].head()"
   ]
  },
  {
   "cell_type": "code",
   "execution_count": 21,
   "metadata": {
    "hidden": true
   },
   "outputs": [],
   "source": [
    "def make_boro_assignment(df, index, borough):\n",
    "    df.loc[index:index+1, 'borough'] = borough\n",
    "    return df"
   ]
  },
  {
   "cell_type": "code",
   "execution_count": 22,
   "metadata": {
    "hidden": true
   },
   "outputs": [],
   "source": [
    "boros = ['MANHATTAN', \"BROOKLYN\", \"QUEENS\", \"STATEN ISLAND\", \"BRONX\"]\n",
    "results_df = make_boro_assignment(results_df, 176, boros[0])\n",
    "results_df = make_boro_assignment(results_df, 207, boros[1])\n",
    "results_df = make_boro_assignment(results_df, 716, boros[0])\n",
    "results_df = make_boro_assignment(results_df, 493, boros[0])\n",
    "results_df = make_boro_assignment(results_df, 723, boros[3])\n",
    "results_df = make_boro_assignment(results_df, 776, boros[2])\n",
    "results_df = make_boro_assignment(results_df, 816, boros[2])\n",
    "results_df = make_boro_assignment(results_df, 873, boros[1])\n",
    "results_df = make_boro_assignment(results_df, 969, boros[2])\n",
    "results_df = make_boro_assignment(results_df, 1036, boros[1])\n",
    "results_df = make_boro_assignment(results_df, 1065, boros[1])\n",
    "results_df = make_boro_assignment(results_df, 1177, boros[3])"
   ]
  },
  {
   "cell_type": "code",
   "execution_count": 23,
   "metadata": {
    "hidden": true,
    "scrolled": true
   },
   "outputs": [
    {
     "data": {
      "text/html": [
       "<div>\n",
       "<style scoped>\n",
       "    .dataframe tbody tr th:only-of-type {\n",
       "        vertical-align: middle;\n",
       "    }\n",
       "\n",
       "    .dataframe tbody tr th {\n",
       "        vertical-align: top;\n",
       "    }\n",
       "\n",
       "    .dataframe thead th {\n",
       "        text-align: right;\n",
       "    }\n",
       "</style>\n",
       "<table border=\"1\" class=\"dataframe\">\n",
       "  <thead>\n",
       "    <tr style=\"text-align: right;\">\n",
       "      <th></th>\n",
       "      <th>on_street_name</th>\n",
       "      <th>off_street_name</th>\n",
       "      <th>cross_street_name</th>\n",
       "      <th>borough</th>\n",
       "      <th>borough_gps</th>\n",
       "    </tr>\n",
       "  </thead>\n",
       "  <tbody>\n",
       "    <tr>\n",
       "      <th>23</th>\n",
       "      <td>BORDEN AVENUE</td>\n",
       "      <td>58 ROAD</td>\n",
       "      <td>NaN</td>\n",
       "      <td>NaN</td>\n",
       "      <td>NaN</td>\n",
       "    </tr>\n",
       "    <tr>\n",
       "      <th>145</th>\n",
       "      <td>11 AVENUE</td>\n",
       "      <td>NaN</td>\n",
       "      <td>NaN</td>\n",
       "      <td>NOT NYC</td>\n",
       "      <td>NOT NYC</td>\n",
       "    </tr>\n",
       "    <tr>\n",
       "      <th>215</th>\n",
       "      <td>10 AVENUE</td>\n",
       "      <td>NaN</td>\n",
       "      <td>NaN</td>\n",
       "      <td>NOT NYC</td>\n",
       "      <td>NOT NYC</td>\n",
       "    </tr>\n",
       "    <tr>\n",
       "      <th>278</th>\n",
       "      <td>TOMPKINS AVENUE</td>\n",
       "      <td>NaN</td>\n",
       "      <td>NaN</td>\n",
       "      <td>NOT NYC</td>\n",
       "      <td>NOT NYC</td>\n",
       "    </tr>\n",
       "    <tr>\n",
       "      <th>306</th>\n",
       "      <td>AVENUE OF THE AMERICAS</td>\n",
       "      <td>NaN</td>\n",
       "      <td>NaN</td>\n",
       "      <td>NOT NYC</td>\n",
       "      <td>NOT NYC</td>\n",
       "    </tr>\n",
       "  </tbody>\n",
       "</table>\n",
       "</div>"
      ],
      "text/plain": [
       "                       on_street_name off_street_name cross_street_name  \\\n",
       "23   BORDEN AVENUE                            58 ROAD               NaN   \n",
       "145  11 AVENUE                                    NaN               NaN   \n",
       "215  10 AVENUE                                    NaN               NaN   \n",
       "278  TOMPKINS AVENUE                              NaN               NaN   \n",
       "306  AVENUE OF THE AMERICAS                       NaN               NaN   \n",
       "\n",
       "     borough borough_gps  \n",
       "23       NaN         NaN  \n",
       "145  NOT NYC     NOT NYC  \n",
       "215  NOT NYC     NOT NYC  \n",
       "278  NOT NYC     NOT NYC  \n",
       "306  NOT NYC     NOT NYC  "
      ]
     },
     "execution_count": 23,
     "metadata": {},
     "output_type": "execute_result"
    }
   ],
   "source": [
    "avenue_df = results_df.loc[(results_df.borough.isna() == True) |\n",
    "                            (results_df.borough == 'NOT NYC'), :] \\\n",
    "                            [['on_street_name', 'off_street_name', \n",
    "                              'cross_street_name', 'borough', 'borough_gps']]\n",
    "avenue_df[(avenue_df.on_street_name.str.contains('AVENUE',regex=True, na=False))].head()"
   ]
  },
  {
   "cell_type": "code",
   "execution_count": 24,
   "metadata": {
    "hidden": true
   },
   "outputs": [],
   "source": [
    "results_df = make_boro_assignment(results_df, 27, boros[2])\n",
    "results_df = make_boro_assignment(results_df, 304, boros[0])\n",
    "results_df = make_boro_assignment(results_df, 399, boros[0])\n",
    "results_df = make_boro_assignment(results_df, 619, boros[4])\n",
    "results_df = make_boro_assignment(results_df, 637, boros[4])\n",
    "results_df = make_boro_assignment(results_df, 663, boros[1])\n",
    "results_df = make_boro_assignment(results_df, 673, boros[1])\n",
    "results_df = make_boro_assignment(results_df, 678, boros[3])\n",
    "results_df = make_boro_assignment(results_df, 739, boros[1])\n",
    "results_df = make_boro_assignment(results_df, 751, boros[2])\n",
    "results_df = make_boro_assignment(results_df, 755, boros[2])\n",
    "results_df = make_boro_assignment(results_df, 757, boros[2])\n",
    "results_df = make_boro_assignment(results_df, 764, boros[4])\n",
    "results_df = make_boro_assignment(results_df, 785, boros[1])\n",
    "results_df = make_boro_assignment(results_df, 790, boros[1])\n",
    "results_df = make_boro_assignment(results_df, 835, boros[2])\n",
    "results_df = make_boro_assignment(results_df, 891, boros[2])\n",
    "results_df = make_boro_assignment(results_df, 895, boros[1])\n",
    "results_df = make_boro_assignment(results_df, 914, boros[1])\n",
    "results_df = make_boro_assignment(results_df, 915, boros[2])\n",
    "results_df = make_boro_assignment(results_df, 953, boros[2])\n",
    "results_df = make_boro_assignment(results_df, 961, boros[4])"
   ]
  },
  {
   "cell_type": "code",
   "execution_count": 25,
   "metadata": {
    "hidden": true
   },
   "outputs": [
    {
     "data": {
      "text/html": [
       "<div>\n",
       "<style scoped>\n",
       "    .dataframe tbody tr th:only-of-type {\n",
       "        vertical-align: middle;\n",
       "    }\n",
       "\n",
       "    .dataframe tbody tr th {\n",
       "        vertical-align: top;\n",
       "    }\n",
       "\n",
       "    .dataframe thead th {\n",
       "        text-align: right;\n",
       "    }\n",
       "</style>\n",
       "<table border=\"1\" class=\"dataframe\">\n",
       "  <thead>\n",
       "    <tr style=\"text-align: right;\">\n",
       "      <th></th>\n",
       "      <th>on_street_name</th>\n",
       "      <th>off_street_name</th>\n",
       "      <th>cross_street_name</th>\n",
       "      <th>borough</th>\n",
       "      <th>borough_gps</th>\n",
       "    </tr>\n",
       "  </thead>\n",
       "  <tbody>\n",
       "    <tr>\n",
       "      <th>23</th>\n",
       "      <td>BORDEN AVENUE</td>\n",
       "      <td>58 ROAD</td>\n",
       "      <td>NaN</td>\n",
       "      <td>NaN</td>\n",
       "      <td>NaN</td>\n",
       "    </tr>\n",
       "    <tr>\n",
       "      <th>145</th>\n",
       "      <td>11 AVENUE</td>\n",
       "      <td>NaN</td>\n",
       "      <td>NaN</td>\n",
       "      <td>NOT NYC</td>\n",
       "      <td>NOT NYC</td>\n",
       "    </tr>\n",
       "    <tr>\n",
       "      <th>215</th>\n",
       "      <td>10 AVENUE</td>\n",
       "      <td>NaN</td>\n",
       "      <td>NaN</td>\n",
       "      <td>NOT NYC</td>\n",
       "      <td>NOT NYC</td>\n",
       "    </tr>\n",
       "    <tr>\n",
       "      <th>278</th>\n",
       "      <td>TOMPKINS AVENUE</td>\n",
       "      <td>NaN</td>\n",
       "      <td>NaN</td>\n",
       "      <td>NOT NYC</td>\n",
       "      <td>NOT NYC</td>\n",
       "    </tr>\n",
       "    <tr>\n",
       "      <th>306</th>\n",
       "      <td>AVENUE OF THE AMERICAS</td>\n",
       "      <td>NaN</td>\n",
       "      <td>NaN</td>\n",
       "      <td>NOT NYC</td>\n",
       "      <td>NOT NYC</td>\n",
       "    </tr>\n",
       "  </tbody>\n",
       "</table>\n",
       "</div>"
      ],
      "text/plain": [
       "                       on_street_name off_street_name cross_street_name  \\\n",
       "23   BORDEN AVENUE                            58 ROAD               NaN   \n",
       "145  11 AVENUE                                    NaN               NaN   \n",
       "215  10 AVENUE                                    NaN               NaN   \n",
       "278  TOMPKINS AVENUE                              NaN               NaN   \n",
       "306  AVENUE OF THE AMERICAS                       NaN               NaN   \n",
       "\n",
       "     borough borough_gps  \n",
       "23       NaN         NaN  \n",
       "145  NOT NYC     NOT NYC  \n",
       "215  NOT NYC     NOT NYC  \n",
       "278  NOT NYC     NOT NYC  \n",
       "306  NOT NYC     NOT NYC  "
      ]
     },
     "execution_count": 25,
     "metadata": {},
     "output_type": "execute_result"
    }
   ],
   "source": [
    "avenue_df = results_df.loc[(results_df.borough.isna() == True) |\n",
    "                            (results_df.borough == 'NOT NYC'), :] \\\n",
    "                            [['on_street_name', 'off_street_name', \n",
    "                              'cross_street_name', 'borough', 'borough_gps']]\n",
    "avenue_df[avenue_df.on_street_name.str.contains('AVENUE',regex=True, na=False)].head()"
   ]
  },
  {
   "cell_type": "code",
   "execution_count": 26,
   "metadata": {
    "hidden": true
   },
   "outputs": [],
   "source": [
    "results_df = make_boro_assignment(results_df, 959, boros[2])\n",
    "results_df = make_boro_assignment(results_df, 975, boros[1])\n",
    "results_df = make_boro_assignment(results_df, 1004, boros[2])\n",
    "results_df = make_boro_assignment(results_df, 1005, boros[4])\n",
    "results_df = make_boro_assignment(results_df, 1028, boros[0])\n",
    "results_df = make_boro_assignment(results_df, 1031, boros[1])\n",
    "results_df = make_boro_assignment(results_df, 1039, boros[1])\n",
    "results_df = make_boro_assignment(results_df, 1070, boros[4])\n",
    "results_df = make_boro_assignment(results_df, 1083, boros[1])\n",
    "results_df = make_boro_assignment(results_df, 1086, boros[2])\n",
    "results_df = make_boro_assignment(results_df, 1087, boros[2])\n",
    "results_df = make_boro_assignment(results_df, 1174, boros[0])"
   ]
  },
  {
   "cell_type": "code",
   "execution_count": 27,
   "metadata": {
    "hidden": true,
    "scrolled": true
   },
   "outputs": [
    {
     "data": {
      "text/html": [
       "<div>\n",
       "<style scoped>\n",
       "    .dataframe tbody tr th:only-of-type {\n",
       "        vertical-align: middle;\n",
       "    }\n",
       "\n",
       "    .dataframe tbody tr th {\n",
       "        vertical-align: top;\n",
       "    }\n",
       "\n",
       "    .dataframe thead th {\n",
       "        text-align: right;\n",
       "    }\n",
       "</style>\n",
       "<table border=\"1\" class=\"dataframe\">\n",
       "  <thead>\n",
       "    <tr style=\"text-align: right;\">\n",
       "      <th></th>\n",
       "      <th>location</th>\n",
       "      <th>on_street_name</th>\n",
       "      <th>off_street_name</th>\n",
       "      <th>cross_street_name</th>\n",
       "      <th>borough</th>\n",
       "      <th>borough_gps</th>\n",
       "      <th>latitude</th>\n",
       "      <th>longitude</th>\n",
       "    </tr>\n",
       "  </thead>\n",
       "  <tbody>\n",
       "    <tr>\n",
       "      <th>83</th>\n",
       "      <td>NaN</td>\n",
       "      <td>CONDUIT BOULEVARD</td>\n",
       "      <td>CRESCENT STREET</td>\n",
       "      <td>NaN</td>\n",
       "      <td>NaN</td>\n",
       "      <td>NaN</td>\n",
       "      <td>NaN</td>\n",
       "      <td>NaN</td>\n",
       "    </tr>\n",
       "    <tr>\n",
       "      <th>88</th>\n",
       "      <td>NaN</td>\n",
       "      <td>ROCKAWAY BOULEVARD</td>\n",
       "      <td>NaN</td>\n",
       "      <td>NaN</td>\n",
       "      <td>NaN</td>\n",
       "      <td>NaN</td>\n",
       "      <td>NaN</td>\n",
       "      <td>NaN</td>\n",
       "    </tr>\n",
       "    <tr>\n",
       "      <th>221</th>\n",
       "      <td>{'type': 'Point', 'coordinates': [-73.824684, ...</td>\n",
       "      <td>PARSONS BOULEVARD</td>\n",
       "      <td>NaN</td>\n",
       "      <td>NaN</td>\n",
       "      <td>NOT NYC</td>\n",
       "      <td>NOT NYC</td>\n",
       "      <td>40.7730600</td>\n",
       "      <td>-73.8246840</td>\n",
       "    </tr>\n",
       "    <tr>\n",
       "      <th>342</th>\n",
       "      <td>NaN</td>\n",
       "      <td>NORTHERN BOULEVARD</td>\n",
       "      <td>NaN</td>\n",
       "      <td>NaN</td>\n",
       "      <td>NaN</td>\n",
       "      <td>NaN</td>\n",
       "      <td>NaN</td>\n",
       "      <td>NaN</td>\n",
       "    </tr>\n",
       "    <tr>\n",
       "      <th>461</th>\n",
       "      <td>NaN</td>\n",
       "      <td>BRUCKNER BOULEVARD</td>\n",
       "      <td>HUTCHINSON RIVER PARKWAY</td>\n",
       "      <td>NaN</td>\n",
       "      <td>NaN</td>\n",
       "      <td>NaN</td>\n",
       "      <td>NaN</td>\n",
       "      <td>NaN</td>\n",
       "    </tr>\n",
       "  </tbody>\n",
       "</table>\n",
       "</div>"
      ],
      "text/plain": [
       "                                              location  \\\n",
       "83                                                 NaN   \n",
       "88                                                 NaN   \n",
       "221  {'type': 'Point', 'coordinates': [-73.824684, ...   \n",
       "342                                                NaN   \n",
       "461                                                NaN   \n",
       "\n",
       "                       on_street_name           off_street_name  \\\n",
       "83   CONDUIT BOULEVARD                          CRESCENT STREET   \n",
       "88   ROCKAWAY BOULEVARD                                     NaN   \n",
       "221  PARSONS BOULEVARD                                      NaN   \n",
       "342  NORTHERN BOULEVARD                                     NaN   \n",
       "461  BRUCKNER BOULEVARD                HUTCHINSON RIVER PARKWAY   \n",
       "\n",
       "    cross_street_name  borough borough_gps    latitude    longitude  \n",
       "83                NaN      NaN         NaN         NaN          NaN  \n",
       "88                NaN      NaN         NaN         NaN          NaN  \n",
       "221               NaN  NOT NYC     NOT NYC  40.7730600  -73.8246840  \n",
       "342               NaN      NaN         NaN         NaN          NaN  \n",
       "461               NaN      NaN         NaN         NaN          NaN  "
      ]
     },
     "execution_count": 27,
     "metadata": {},
     "output_type": "execute_result"
    }
   ],
   "source": [
    "blvd_df = results_df.loc[(results_df.borough.isna() == True) |\n",
    "              (results_df.borough == 'NOT NYC'), :] \\\n",
    "              [['location', 'on_street_name', 'off_street_name', \n",
    "              'cross_street_name', 'borough', 'borough_gps', \n",
    "              'latitude', 'longitude']]\n",
    "blvd_df[blvd_df.on_street_name.str.contains('BOULEVARD|SQUARE', regex=True, na=False)].head()"
   ]
  },
  {
   "cell_type": "code",
   "execution_count": 28,
   "metadata": {
    "hidden": true
   },
   "outputs": [],
   "source": [
    "# boros = ['MANHATTAN', \"BROOKLYN\", \"QUEENS\", \"STATEN ISLAND\", \"BRONX\"]\n",
    "results_df = make_boro_assignment(results_df, 82, boros[2])\n",
    "results_df = make_boro_assignment(results_df, 85, boros[1])\n",
    "results_df = make_boro_assignment(results_df, 223, boros[2])\n",
    "results_df = make_boro_assignment(results_df, 347, boros[2])\n",
    "results_df = make_boro_assignment(results_df, 453, boros[4])\n",
    "results_df = make_boro_assignment(results_df, 540, boros[2])\n",
    "results_df = make_boro_assignment(results_df, 553, boros[2])\n",
    "results_df = make_boro_assignment(results_df, 567, boros[2])\n",
    "results_df = make_boro_assignment(results_df, 644, boros[2])\n",
    "results_df = make_boro_assignment(results_df, 658, boros[2])\n",
    "results_df = make_boro_assignment(results_df, 680, boros[2])\n",
    "results_df = make_boro_assignment(results_df, 801, boros[1])\n",
    "results_df = make_boro_assignment(results_df, 833, boros[2])\n",
    "results_df = make_boro_assignment(results_df, 906, boros[0])\n",
    "results_df = make_boro_assignment(results_df, 917, boros[4])\n",
    "results_df = make_boro_assignment(results_df, 932, boros[2])\n",
    "results_df = make_boro_assignment(results_df, 1077, boros[2])\n",
    "results_df = make_boro_assignment(results_df, 1082, boros[3])\n",
    "results_df = make_boro_assignment(results_df, 1156, boros[1])\n",
    "results_df = make_boro_assignment(results_df, 1163, boros[2])"
   ]
  },
  {
   "cell_type": "code",
   "execution_count": 29,
   "metadata": {
    "hidden": true,
    "scrolled": false
   },
   "outputs": [
    {
     "data": {
      "text/html": [
       "<div>\n",
       "<style scoped>\n",
       "    .dataframe tbody tr th:only-of-type {\n",
       "        vertical-align: middle;\n",
       "    }\n",
       "\n",
       "    .dataframe tbody tr th {\n",
       "        vertical-align: top;\n",
       "    }\n",
       "\n",
       "    .dataframe thead th {\n",
       "        text-align: right;\n",
       "    }\n",
       "</style>\n",
       "<table border=\"1\" class=\"dataframe\">\n",
       "  <thead>\n",
       "    <tr style=\"text-align: right;\">\n",
       "      <th></th>\n",
       "      <th>location</th>\n",
       "      <th>on_street_name</th>\n",
       "      <th>off_street_name</th>\n",
       "      <th>cross_street_name</th>\n",
       "      <th>borough</th>\n",
       "      <th>borough_gps</th>\n",
       "    </tr>\n",
       "  </thead>\n",
       "  <tbody>\n",
       "    <tr>\n",
       "      <th>650</th>\n",
       "      <td>NaN</td>\n",
       "      <td>BRUCKNER BOULEVARD</td>\n",
       "      <td>WILLIS AVENUE</td>\n",
       "      <td>NaN</td>\n",
       "      <td>NaN</td>\n",
       "      <td>NaN</td>\n",
       "    </tr>\n",
       "    <tr>\n",
       "      <th>676</th>\n",
       "      <td>NaN</td>\n",
       "      <td>WESTCHESTER AVENUE</td>\n",
       "      <td>EAST TREMONT AVENUE</td>\n",
       "      <td>NaN</td>\n",
       "      <td>NaN</td>\n",
       "      <td>NaN</td>\n",
       "    </tr>\n",
       "    <tr>\n",
       "      <th>774</th>\n",
       "      <td>NaN</td>\n",
       "      <td>165 STREET</td>\n",
       "      <td>HILLSIDE AVENUE</td>\n",
       "      <td>NaN</td>\n",
       "      <td>NaN</td>\n",
       "      <td>NaN</td>\n",
       "    </tr>\n",
       "    <tr>\n",
       "      <th>789</th>\n",
       "      <td>NaN</td>\n",
       "      <td>FLATBUSH AVENUE</td>\n",
       "      <td>DEKALB AVENUE</td>\n",
       "      <td>NaN</td>\n",
       "      <td>NaN</td>\n",
       "      <td>NaN</td>\n",
       "    </tr>\n",
       "    <tr>\n",
       "      <th>927</th>\n",
       "      <td>NaN</td>\n",
       "      <td>ASTORIA BOULEVARD</td>\n",
       "      <td>31 AVENUE</td>\n",
       "      <td>NaN</td>\n",
       "      <td>NaN</td>\n",
       "      <td>NaN</td>\n",
       "    </tr>\n",
       "    <tr>\n",
       "      <th>931</th>\n",
       "      <td>NaN</td>\n",
       "      <td>69 PLACE</td>\n",
       "      <td>GRAND AVENUE</td>\n",
       "      <td>NaN</td>\n",
       "      <td>NaN</td>\n",
       "      <td>NaN</td>\n",
       "    </tr>\n",
       "    <tr>\n",
       "      <th>947</th>\n",
       "      <td>NaN</td>\n",
       "      <td>WEBSTER AVENUE</td>\n",
       "      <td>CLAY AVENUE</td>\n",
       "      <td>NaN</td>\n",
       "      <td>NaN</td>\n",
       "      <td>NaN</td>\n",
       "    </tr>\n",
       "    <tr>\n",
       "      <th>949</th>\n",
       "      <td>NaN</td>\n",
       "      <td>MAURICE AVENUE</td>\n",
       "      <td>BORDEN AVENUE</td>\n",
       "      <td>NaN</td>\n",
       "      <td>NaN</td>\n",
       "      <td>NaN</td>\n",
       "    </tr>\n",
       "    <tr>\n",
       "      <th>950</th>\n",
       "      <td>NaN</td>\n",
       "      <td>EASTERN PARKWAY</td>\n",
       "      <td>SAINT MARKS AVENUE</td>\n",
       "      <td>NaN</td>\n",
       "      <td>NaN</td>\n",
       "      <td>NaN</td>\n",
       "    </tr>\n",
       "    <tr>\n",
       "      <th>955</th>\n",
       "      <td>NaN</td>\n",
       "      <td>DRUMGOOLE ROAD EAST</td>\n",
       "      <td>WOLCOTT AVENUE</td>\n",
       "      <td>NaN</td>\n",
       "      <td>NaN</td>\n",
       "      <td>NaN</td>\n",
       "    </tr>\n",
       "    <tr>\n",
       "      <th>988</th>\n",
       "      <td>NaN</td>\n",
       "      <td>RICHMOND TERRACE</td>\n",
       "      <td>SIMONSON AVENUE</td>\n",
       "      <td>NaN</td>\n",
       "      <td>NaN</td>\n",
       "      <td>NaN</td>\n",
       "    </tr>\n",
       "    <tr>\n",
       "      <th>1044</th>\n",
       "      <td>NaN</td>\n",
       "      <td>WEST KINGSBRIDGE ROAD</td>\n",
       "      <td>RESERVOIR AVENUE</td>\n",
       "      <td>NaN</td>\n",
       "      <td>NaN</td>\n",
       "      <td>NaN</td>\n",
       "    </tr>\n",
       "    <tr>\n",
       "      <th>1067</th>\n",
       "      <td>NaN</td>\n",
       "      <td>82 STREET</td>\n",
       "      <td>4 AVENUE</td>\n",
       "      <td>NaN</td>\n",
       "      <td>NaN</td>\n",
       "      <td>NaN</td>\n",
       "    </tr>\n",
       "    <tr>\n",
       "      <th>1162</th>\n",
       "      <td>NaN</td>\n",
       "      <td>CROSSBAY BOULEVARD</td>\n",
       "      <td>149 AVENUE</td>\n",
       "      <td>NaN</td>\n",
       "      <td>NaN</td>\n",
       "      <td>NaN</td>\n",
       "    </tr>\n",
       "  </tbody>\n",
       "</table>\n",
       "</div>"
      ],
      "text/plain": [
       "     location                    on_street_name  \\\n",
       "650       NaN  BRUCKNER BOULEVARD                 \n",
       "676       NaN  WESTCHESTER AVENUE                 \n",
       "774       NaN  165 STREET                         \n",
       "789       NaN  FLATBUSH AVENUE                    \n",
       "927       NaN  ASTORIA BOULEVARD                  \n",
       "931       NaN  69 PLACE                           \n",
       "947       NaN  WEBSTER AVENUE                     \n",
       "949       NaN  MAURICE AVENUE                     \n",
       "950       NaN  EASTERN PARKWAY                    \n",
       "955       NaN  DRUMGOOLE ROAD EAST                \n",
       "988       NaN  RICHMOND TERRACE                   \n",
       "1044      NaN  WEST KINGSBRIDGE ROAD              \n",
       "1067      NaN  82 STREET                          \n",
       "1162      NaN  CROSSBAY BOULEVARD                 \n",
       "\n",
       "                       off_street_name cross_street_name borough borough_gps  \n",
       "650   WILLIS AVENUE                                  NaN     NaN         NaN  \n",
       "676   EAST TREMONT AVENUE                            NaN     NaN         NaN  \n",
       "774   HILLSIDE AVENUE                                NaN     NaN         NaN  \n",
       "789   DEKALB AVENUE                                  NaN     NaN         NaN  \n",
       "927   31 AVENUE                                      NaN     NaN         NaN  \n",
       "931   GRAND AVENUE                                   NaN     NaN         NaN  \n",
       "947   CLAY AVENUE                                    NaN     NaN         NaN  \n",
       "949   BORDEN AVENUE                                  NaN     NaN         NaN  \n",
       "950   SAINT MARKS AVENUE                             NaN     NaN         NaN  \n",
       "955   WOLCOTT AVENUE                                 NaN     NaN         NaN  \n",
       "988   SIMONSON AVENUE                                NaN     NaN         NaN  \n",
       "1044  RESERVOIR AVENUE                               NaN     NaN         NaN  \n",
       "1067  4 AVENUE                                       NaN     NaN         NaN  \n",
       "1162  149 AVENUE                                     NaN     NaN         NaN  "
      ]
     },
     "execution_count": 29,
     "metadata": {},
     "output_type": "execute_result"
    }
   ],
   "source": [
    "off_avenue = results_df.loc[(results_df.borough.isna() == True) |\n",
    "              (results_df.borough == 'NOT NYC'), :] \\\n",
    "              [['location', 'on_street_name', 'off_street_name', \n",
    "              'cross_street_name', 'borough', 'borough_gps']]\n",
    "off_avenue[off_avenue.off_street_name.str.contains('AVENUE', regex=True, na=False)]"
   ]
  },
  {
   "cell_type": "code",
   "execution_count": 30,
   "metadata": {
    "hidden": true
   },
   "outputs": [],
   "source": [
    "results_df = make_boro_assignment(results_df, 937, boros[1])\n",
    "results_df = make_boro_assignment(results_df, 939, boros[2])\n",
    "results_df = make_boro_assignment(results_df, 949, boros[3])\n",
    "results_df = make_boro_assignment(results_df, 968, boros[1])\n",
    "results_df = make_boro_assignment(results_df, 990, boros[3])\n",
    "results_df = make_boro_assignment(results_df, 1050, boros[4])"
   ]
  },
  {
   "cell_type": "code",
   "execution_count": 31,
   "metadata": {
    "hidden": true
   },
   "outputs": [],
   "source": [
    "results_df = make_boro_assignment(results_df, 73, boros[2])\n",
    "results_df = make_boro_assignment(results_df, 148, boros[2])\n",
    "results_df = make_boro_assignment(results_df, 234, boros[4])\n",
    "results_df = make_boro_assignment(results_df, 300, boros[2])\n",
    "results_df = make_boro_assignment(results_df, 308, boros[2])\n",
    "results_df = make_boro_assignment(results_df, 397, boros[2])\n",
    "results_df = make_boro_assignment(results_df, 401, boros[1])\n",
    "results_df = make_boro_assignment(results_df, 405, boros[0])\n",
    "results_df = make_boro_assignment(results_df, 468, boros[2])\n",
    "results_df = make_boro_assignment(results_df, 589, boros[0])"
   ]
  },
  {
   "cell_type": "code",
   "execution_count": 32,
   "metadata": {
    "hidden": true
   },
   "outputs": [],
   "source": [
    "results_df = make_boro_assignment(results_df, 546, boros[3])\n",
    "results_df = make_boro_assignment(results_df, 558, boros[2])\n",
    "results_df = make_boro_assignment(results_df, 591, boros[4])\n",
    "results_df = make_boro_assignment(results_df, 574, boros[2])\n",
    "results_df = make_boro_assignment(results_df, 594, boros[0])\n",
    "results_df = make_boro_assignment(results_df, 604, boros[4])\n",
    "results_df = make_boro_assignment(results_df, 628, boros[4])\n",
    "results_df = make_boro_assignment(results_df, 697, boros[3])\n",
    "results_df = make_boro_assignment(results_df, 762, boros[4])\n",
    "results_df = make_boro_assignment(results_df, 822, boros[4])\n",
    "results_df = make_boro_assignment(results_df, 850, boros[1])\n",
    "results_df = make_boro_assignment(results_df, 863, boros[2])\n",
    "results_df = make_boro_assignment(results_df, 969, boros[3])\n",
    "results_df = make_boro_assignment(results_df, 1009, boros[2])\n",
    "results_df = make_boro_assignment(results_df, 1038, boros[1])\n",
    "results_df = make_boro_assignment(results_df, 1041, boros[2])\n",
    "results_df = make_boro_assignment(results_df, 1138, boros[1])"
   ]
  },
  {
   "cell_type": "markdown",
   "metadata": {
    "heading_collapsed": true
   },
   "source": [
    "## Cleaned Final Data"
   ]
  },
  {
   "cell_type": "markdown",
   "metadata": {
    "hidden": true
   },
   "source": [
    "The remaining data that do not have borough assignments are locations that could be in one of several boroughs or is a collision that occured on an interstate highway such as I-87, I-495, I-278, etc. "
   ]
  },
  {
   "cell_type": "code",
   "execution_count": 33,
   "metadata": {
    "hidden": true
   },
   "outputs": [
    {
     "data": {
      "text/html": [
       "<div>\n",
       "<style scoped>\n",
       "    .dataframe tbody tr th:only-of-type {\n",
       "        vertical-align: middle;\n",
       "    }\n",
       "\n",
       "    .dataframe tbody tr th {\n",
       "        vertical-align: top;\n",
       "    }\n",
       "\n",
       "    .dataframe thead th {\n",
       "        text-align: right;\n",
       "    }\n",
       "</style>\n",
       "<table border=\"1\" class=\"dataframe\">\n",
       "  <thead>\n",
       "    <tr style=\"text-align: right;\">\n",
       "      <th></th>\n",
       "      <th>borough</th>\n",
       "      <th>year</th>\n",
       "      <th>month</th>\n",
       "      <th>day</th>\n",
       "      <th>date</th>\n",
       "      <th>location</th>\n",
       "      <th>latitude</th>\n",
       "      <th>longitude</th>\n",
       "      <th>cross_street_name</th>\n",
       "      <th>off_street_name</th>\n",
       "      <th>on_street_name</th>\n",
       "      <th>vehicle_type_code1</th>\n",
       "      <th>contributing_factor_vehicle_1</th>\n",
       "      <th>number_of_cyclist_killed</th>\n",
       "      <th>number_of_pedestrians_killed</th>\n",
       "      <th>borough_gps</th>\n",
       "    </tr>\n",
       "  </thead>\n",
       "  <tbody>\n",
       "    <tr>\n",
       "      <th>0</th>\n",
       "      <td>STATEN ISLAND</td>\n",
       "      <td>2020</td>\n",
       "      <td>5</td>\n",
       "      <td>4</td>\n",
       "      <td>2020-05-22</td>\n",
       "      <td>{'type': 'Point', 'coordinates': [-74.1672, 40...</td>\n",
       "      <td>40.6020740</td>\n",
       "      <td>-74.1672000</td>\n",
       "      <td>NaN</td>\n",
       "      <td>SIGNS ROAD</td>\n",
       "      <td>ARLENE STREET</td>\n",
       "      <td>Pick-up Truck</td>\n",
       "      <td>Failure to Yield Right-of-Way</td>\n",
       "      <td>1</td>\n",
       "      <td>0</td>\n",
       "      <td>STATEN ISLAND</td>\n",
       "    </tr>\n",
       "    <tr>\n",
       "      <th>1</th>\n",
       "      <td>QUEENS</td>\n",
       "      <td>2020</td>\n",
       "      <td>5</td>\n",
       "      <td>0</td>\n",
       "      <td>2020-05-18</td>\n",
       "      <td>{'type': 'Point', 'coordinates': [-73.827286, ...</td>\n",
       "      <td>40.7048570</td>\n",
       "      <td>-73.8272860</td>\n",
       "      <td>124-50    METROPOLITAN AVENUE</td>\n",
       "      <td>NaN</td>\n",
       "      <td>NaN</td>\n",
       "      <td>Box Truck</td>\n",
       "      <td>View Obstructed/Limited</td>\n",
       "      <td>0</td>\n",
       "      <td>1</td>\n",
       "      <td>QUEENS</td>\n",
       "    </tr>\n",
       "    <tr>\n",
       "      <th>2</th>\n",
       "      <td>QUEENS</td>\n",
       "      <td>2020</td>\n",
       "      <td>3</td>\n",
       "      <td>5</td>\n",
       "      <td>2020-03-14</td>\n",
       "      <td>{'type': 'Point', 'coordinates': [-73.89384, 4...</td>\n",
       "      <td>40.7604370</td>\n",
       "      <td>-73.8938400</td>\n",
       "      <td>NaN</td>\n",
       "      <td>30 AVENUE</td>\n",
       "      <td>74 STREET</td>\n",
       "      <td>Station Wagon/Sport Utility Vehicle</td>\n",
       "      <td>Driver Inattention/Distraction</td>\n",
       "      <td>0</td>\n",
       "      <td>1</td>\n",
       "      <td>QUEENS</td>\n",
       "    </tr>\n",
       "    <tr>\n",
       "      <th>3</th>\n",
       "      <td>NaN</td>\n",
       "      <td>2020</td>\n",
       "      <td>3</td>\n",
       "      <td>1</td>\n",
       "      <td>2020-03-17</td>\n",
       "      <td>NaN</td>\n",
       "      <td>NaN</td>\n",
       "      <td>NaN</td>\n",
       "      <td>NaN</td>\n",
       "      <td>NaN</td>\n",
       "      <td>NEW ENGLAND THRUWAY</td>\n",
       "      <td>Tractor Truck Diesel</td>\n",
       "      <td>Unspecified</td>\n",
       "      <td>0</td>\n",
       "      <td>1</td>\n",
       "      <td>NaN</td>\n",
       "    </tr>\n",
       "    <tr>\n",
       "      <th>4</th>\n",
       "      <td>BROOKLYN</td>\n",
       "      <td>2020</td>\n",
       "      <td>4</td>\n",
       "      <td>1</td>\n",
       "      <td>2020-04-28</td>\n",
       "      <td>{'type': 'Point', 'coordinates': [-73.95166, 4...</td>\n",
       "      <td>40.6430630</td>\n",
       "      <td>-73.9516600</td>\n",
       "      <td>NaN</td>\n",
       "      <td>CLARENDON ROAD</td>\n",
       "      <td>ROGERS AVENUE</td>\n",
       "      <td>Bus</td>\n",
       "      <td>Pedestrian/Bicyclist/Other Pedestrian Error/Co...</td>\n",
       "      <td>1</td>\n",
       "      <td>0</td>\n",
       "      <td>BROOKLYN</td>\n",
       "    </tr>\n",
       "  </tbody>\n",
       "</table>\n",
       "</div>"
      ],
      "text/plain": [
       "         borough  year  month  day        date  \\\n",
       "0  STATEN ISLAND  2020      5    4  2020-05-22   \n",
       "1         QUEENS  2020      5    0  2020-05-18   \n",
       "2         QUEENS  2020      3    5  2020-03-14   \n",
       "3            NaN  2020      3    1  2020-03-17   \n",
       "4       BROOKLYN  2020      4    1  2020-04-28   \n",
       "\n",
       "                                            location    latitude    longitude  \\\n",
       "0  {'type': 'Point', 'coordinates': [-74.1672, 40...  40.6020740  -74.1672000   \n",
       "1  {'type': 'Point', 'coordinates': [-73.827286, ...  40.7048570  -73.8272860   \n",
       "2  {'type': 'Point', 'coordinates': [-73.89384, 4...  40.7604370  -73.8938400   \n",
       "3                                                NaN         NaN          NaN   \n",
       "4  {'type': 'Point', 'coordinates': [-73.95166, 4...  40.6430630  -73.9516600   \n",
       "\n",
       "                          cross_street_name off_street_name  \\\n",
       "0                                       NaN      SIGNS ROAD   \n",
       "1  124-50    METROPOLITAN AVENUE                        NaN   \n",
       "2                                       NaN       30 AVENUE   \n",
       "3                                       NaN             NaN   \n",
       "4                                       NaN  CLARENDON ROAD   \n",
       "\n",
       "                     on_street_name                   vehicle_type_code1  \\\n",
       "0  ARLENE STREET                                           Pick-up Truck   \n",
       "1                               NaN                            Box Truck   \n",
       "2  74 STREET                         Station Wagon/Sport Utility Vehicle   \n",
       "3  NEW ENGLAND THRUWAY                              Tractor Truck Diesel   \n",
       "4  ROGERS AVENUE                                                     Bus   \n",
       "\n",
       "                       contributing_factor_vehicle_1 number_of_cyclist_killed  \\\n",
       "0                      Failure to Yield Right-of-Way                        1   \n",
       "1                            View Obstructed/Limited                        0   \n",
       "2                     Driver Inattention/Distraction                        0   \n",
       "3                                        Unspecified                        0   \n",
       "4  Pedestrian/Bicyclist/Other Pedestrian Error/Co...                        1   \n",
       "\n",
       "  number_of_pedestrians_killed    borough_gps  \n",
       "0                            0  STATEN ISLAND  \n",
       "1                            1         QUEENS  \n",
       "2                            1         QUEENS  \n",
       "3                            1            NaN  \n",
       "4                            0       BROOKLYN  "
      ]
     },
     "execution_count": 33,
     "metadata": {},
     "output_type": "execute_result"
    }
   ],
   "source": [
    "results_df.head()"
   ]
  },
  {
   "cell_type": "code",
   "execution_count": 34,
   "metadata": {
    "hidden": true
   },
   "outputs": [
    {
     "data": {
      "text/plain": [
       "QUEENS           338\n",
       "BROOKLYN         334\n",
       "MANHATTAN        229\n",
       "BRONX            146\n",
       "NaN               65\n",
       "STATEN ISLAND     55\n",
       "NOT NYC           31\n",
       "Name: borough, dtype: int64"
      ]
     },
     "execution_count": 34,
     "metadata": {},
     "output_type": "execute_result"
    }
   ],
   "source": [
    "results_df.borough.value_counts(dropna=False)"
   ]
  },
  {
   "cell_type": "markdown",
   "metadata": {
    "hidden": true
   },
   "source": [
    "Once most of the unassigned deaths were manually reassigned or reassigned by geo-location, Queens has moved into unfortunate position of most deaths for pedestrains and cyclists. "
   ]
  },
  {
   "cell_type": "code",
   "execution_count": 35,
   "metadata": {
    "hidden": true
   },
   "outputs": [
    {
     "name": "stdout",
     "output_type": "stream",
     "text": [
      "<class 'pandas.core.frame.DataFrame'>\n",
      "RangeIndex: 1198 entries, 0 to 1197\n",
      "Data columns (total 16 columns):\n",
      "borough                          1133 non-null object\n",
      "year                             1198 non-null int64\n",
      "month                            1198 non-null int64\n",
      "day                              1198 non-null int64\n",
      "date                             1198 non-null object\n",
      "location                         1053 non-null object\n",
      "latitude                         1053 non-null object\n",
      "longitude                        1053 non-null object\n",
      "cross_street_name                77 non-null object\n",
      "off_street_name                  910 non-null object\n",
      "on_street_name                   1082 non-null object\n",
      "vehicle_type_code1               1182 non-null object\n",
      "contributing_factor_vehicle_1    1187 non-null object\n",
      "number_of_cyclist_killed         1198 non-null object\n",
      "number_of_pedestrians_killed     1198 non-null object\n",
      "borough_gps                      1053 non-null object\n",
      "dtypes: int64(3), object(13)\n",
      "memory usage: 149.8+ KB\n"
     ]
    }
   ],
   "source": [
    "results_df.info()"
   ]
  },
  {
   "cell_type": "code",
   "execution_count": 36,
   "metadata": {
    "hidden": true
   },
   "outputs": [
    {
     "data": {
      "text/plain": [
       "Unspecified                                              545\n",
       "Driver Inattention/Distraction                           169\n",
       "Failure to Yield Right-of-Way                            156\n",
       "Pedestrian/Bicyclist/Other Pedestrian Error/Confusion     48\n",
       "Passenger Distraction                                     48\n",
       "Traffic Control Disregarded                               38\n",
       "Alcohol Involvement                                       37\n",
       "Backing Unsafely                                          33\n",
       "Unsafe Speed                                              21\n",
       "View Obstructed/Limited                                   11\n",
       "Other Vehicular                                            9\n",
       "Physical Disability                                        9\n",
       "Driver Inexperience                                        8\n",
       "Pavement Slippery                                          5\n",
       "Aggressive Driving/Road Rage                               5\n",
       "Prescription Medication                                    4\n",
       "Following Too Closely                                      4\n",
       "Turning Improperly                                         4\n",
       "Other Electronic Device                                    3\n",
       "Drugs (Illegal)                                            3\n",
       "Illnes                                                     3\n",
       "Driverless/Runaway Vehicle                                 3\n",
       "Passing or Lane Usage Improper                             3\n",
       "Outside Car Distraction                                    3\n",
       "Drugs (illegal)                                            3\n",
       "Glare                                                      2\n",
       "Passing Too Closely                                        2\n",
       "Lost Consciousness                                         2\n",
       "Fell Asleep                                                1\n",
       "Oversized Vehicle                                          1\n",
       "Reaction to Uninvolved Vehicle                             1\n",
       "Tow Hitch Defective                                        1\n",
       "Fatigued/Drowsy                                            1\n",
       "Unsafe Lane Changing                                       1\n",
       "Name: contributing_factor_vehicle_1, dtype: int64"
      ]
     },
     "execution_count": 36,
     "metadata": {},
     "output_type": "execute_result"
    }
   ],
   "source": [
    "results_df.contributing_factor_vehicle_1.value_counts()"
   ]
  },
  {
   "cell_type": "code",
   "execution_count": 37,
   "metadata": {
    "hidden": true
   },
   "outputs": [],
   "source": [
    "def apply_row_regex(df_col, old_str, replacement_str):\n",
    "    df_col.replace(to_replace=old_str,\n",
    "                    value= replacement_str,\n",
    "                    regex=True, \n",
    "                    inplace=True)\n",
    "    return df_col"
   ]
  },
  {
   "cell_type": "code",
   "execution_count": 38,
   "metadata": {
    "hidden": true
   },
   "outputs": [
    {
     "data": {
      "text/plain": [
       "0               Failure to Yield\n",
       "1        View Obstructed/Limited\n",
       "2             Driver Distraction\n",
       "3                    Unspecified\n",
       "4       Pedestrian/Cyclist Error\n",
       "5            Alcohol Involvement\n",
       "6               Backing Unsafely\n",
       "7        Traffic Control Ignored\n",
       "8                    Unspecified\n",
       "9        Traffic Control Ignored\n",
       "10              Failure to Yield\n",
       "11            Driver Distraction\n",
       "12              Failure to Yield\n",
       "13                   Unspecified\n",
       "14                   Unspecified\n",
       "15                   Unspecified\n",
       "16                  Unsafe Speed\n",
       "17                   Unspecified\n",
       "18            Driver Distraction\n",
       "19       View Obstructed/Limited\n",
       "20            Driver Distraction\n",
       "21                  Unsafe Speed\n",
       "22            Driver Distraction\n",
       "23              Failure to Yield\n",
       "24            Driver Distraction\n",
       "25                   Unspecified\n",
       "26              Failure to Yield\n",
       "27              Failure to Yield\n",
       "28                   Unspecified\n",
       "29                   Unspecified\n",
       "                  ...           \n",
       "1168                 Unspecified\n",
       "1169                 Unspecified\n",
       "1170     Traffic Control Ignored\n",
       "1171                 Unspecified\n",
       "1172                 Unspecified\n",
       "1173         Physical Disability\n",
       "1174                 Unspecified\n",
       "1175            Failure to Yield\n",
       "1176                 Unspecified\n",
       "1177                 Unspecified\n",
       "1178                 Unspecified\n",
       "1179                 Unspecified\n",
       "1180                 Unspecified\n",
       "1181         Physical Disability\n",
       "1182                 Unspecified\n",
       "1183                 Unspecified\n",
       "1184         Alcohol Involvement\n",
       "1185          Driver Distraction\n",
       "1186                 Unspecified\n",
       "1187                 Unspecified\n",
       "1188                 Unspecified\n",
       "1189                 Unspecified\n",
       "1190                 Unspecified\n",
       "1191                 Unspecified\n",
       "1192          Driver Distraction\n",
       "1193             Other Vehicular\n",
       "1194         Alcohol Involvement\n",
       "1195         Alcohol Involvement\n",
       "1196                 Unspecified\n",
       "1197       Passenger Distraction\n",
       "Name: contributing_factor_vehicle_1, Length: 1198, dtype: object"
      ]
     },
     "execution_count": 38,
     "metadata": {},
     "output_type": "execute_result"
    }
   ],
   "source": [
    "apply_row_regex(results_df.contributing_factor_vehicle_1,\n",
    "                old_str=\"Driver Inattention/Distraction\",\n",
    "                replacement_str=\"Driver Distraction\")\n",
    "apply_row_regex(results_df.contributing_factor_vehicle_1,\n",
    "                old_str=\"Failure to Yield Right-of-Way\",\n",
    "                replacement_str=\"Failure to Yield\")\n",
    "apply_row_regex(results_df.contributing_factor_vehicle_1,\n",
    "                old_str=\"Traffic Control Disregarded\",\n",
    "                replacement_str=\"Traffic Control Ignored\")\n",
    "apply_row_regex(results_df.contributing_factor_vehicle_1,\n",
    "                old_str=\"Aggressive Driving/Road Rage\",\n",
    "                replacement_str=\"Aggressive Driving\")\n",
    "apply_row_regex(results_df.contributing_factor_vehicle_1,\n",
    "                old_str=\"Passing or Lane Usage Improper\",\n",
    "                replacement_str=\"Lane Usage Improper\")\n",
    "apply_row_regex(results_df.contributing_factor_vehicle_1,\n",
    "                old_str=\"Driverless/Runaway Vehicle\",\n",
    "                replacement_str=\"Driverless Vehicle\")\n",
    "apply_row_regex(results_df.contributing_factor_vehicle_1,\n",
    "                old_str=\"Reaction to Uninvolved Vehicle\",\n",
    "                replacement_str=\"Reacted to Other Vehicle\")\n",
    "apply_row_regex(results_df.contributing_factor_vehicle_1,\n",
    "                old_str=\"Pedestrian/Bicyclist/Other Pedestrian Error/Confusion\",\n",
    "                replacement_str=\"Pedestrian/Cyclist Error\")\n",
    "apply_row_regex(results_df.contributing_factor_vehicle_1,\n",
    "                old_str=\"Drugs \\(illegal\\)\",\n",
    "                replacement_str=\"Drugs (Illegal)\")"
   ]
  },
  {
   "cell_type": "code",
   "execution_count": 39,
   "metadata": {
    "hidden": true
   },
   "outputs": [],
   "source": [
    "results_df.vehicle_type_code1 = results_df.vehicle_type_code1 \\\n",
    "                 .replace(np.nan, 'NaN', regex=True)"
   ]
  },
  {
   "cell_type": "code",
   "execution_count": 40,
   "metadata": {
    "hidden": true
   },
   "outputs": [],
   "source": [
    "results_df.vehicle_type_code1 = results_df.vehicle_type_code1 \\\n",
    "                 .apply(lambda x: x.title())"
   ]
  },
  {
   "cell_type": "code",
   "execution_count": 41,
   "metadata": {
    "hidden": true
   },
   "outputs": [
    {
     "data": {
      "text/plain": [
       "0             Pick-Up Truck\n",
       "1                 Box Truck\n",
       "2       SUV / Station Wagon\n",
       "3             Tractor Truck\n",
       "4                       Bus\n",
       "5       SUV / Station Wagon\n",
       "6                      Taxi\n",
       "7       SUV / Station Wagon\n",
       "8                     Sedan\n",
       "9                Motorcycle\n",
       "10      SUV / Station Wagon\n",
       "11                    Sedan\n",
       "12      SUV / Station Wagon\n",
       "13                    Sedan\n",
       "14                      Bus\n",
       "15                    E-Sco\n",
       "16                    Sedan\n",
       "17                    Sedan\n",
       "18                      Bus\n",
       "19                     Dump\n",
       "20                      Van\n",
       "21                      Nan\n",
       "22           Concrete Mixer\n",
       "23      SUV / Station Wagon\n",
       "24                Flat Rack\n",
       "25      SUV / Station Wagon\n",
       "26                    Sedan\n",
       "27      SUV / Station Wagon\n",
       "28                Flat Rack\n",
       "29                     Dump\n",
       "               ...         \n",
       "1168    SUV / Station Wagon\n",
       "1169      Passenger Vehicle\n",
       "1170             Motorcycle\n",
       "1171      Passenger Vehicle\n",
       "1172      Passenger Vehicle\n",
       "1173      Passenger Vehicle\n",
       "1174      Passenger Vehicle\n",
       "1175      Com Veh, 6+ Tires\n",
       "1176                    Bus\n",
       "1177                    Bus\n",
       "1178                  Other\n",
       "1179                Unknown\n",
       "1180    SUV / Station Wagon\n",
       "1181      Passenger Vehicle\n",
       "1182      Passenger Vehicle\n",
       "1183      Passenger Vehicle\n",
       "1184      Passenger Vehicle\n",
       "1185    SUV / Station Wagon\n",
       "1186      Passenger Vehicle\n",
       "1187      Passenger Vehicle\n",
       "1188         Livery Vehicle\n",
       "1189                Unknown\n",
       "1190                Unknown\n",
       "1191      Passenger Vehicle\n",
       "1192      Passenger Vehicle\n",
       "1193      Passenger Vehicle\n",
       "1194    SUV / Station Wagon\n",
       "1195      Passenger Vehicle\n",
       "1196                   Taxi\n",
       "1197      Passenger Vehicle\n",
       "Name: vehicle_type_code1, Length: 1198, dtype: object"
      ]
     },
     "execution_count": 41,
     "metadata": {},
     "output_type": "execute_result"
    }
   ],
   "source": [
    "apply_row_regex(results_df.vehicle_type_code1,\n",
    "                old_str=\"Sport Utility / Station Wagon\",\n",
    "                replacement_str=\"SUV / Station Wagon\")\n",
    "apply_row_regex(results_df.vehicle_type_code1,\n",
    "                old_str=\"Station Wagon/Sport Utility Vehicle\",\n",
    "                replacement_str=\"SUV / Station Wagon\")\n",
    "apply_row_regex(results_df.vehicle_type_code1,\n",
    "                old_str='Large Com Veh\\(6 Or More Tires\\)',\n",
    "                replacement_str=\"Com Veh, 6+ Tires\")\n",
    "apply_row_regex(results_df.vehicle_type_code1,\n",
    "                old_str='Small Com Veh\\(4 Tires\\)',\n",
    "                replacement_str=\"Com Veh, 4 Tires\")\n",
    "apply_row_regex(results_df.vehicle_type_code1,\n",
    "                old_str=\"Tractor Truck Gasoline\",\n",
    "                replacement_str=\"Tractor Truck\")\n",
    "apply_row_regex(results_df.vehicle_type_code1,\n",
    "                old_str=\"Tractor Truck Diesel\",\n",
    "                replacement_str=\"Tractor Truck\")"
   ]
  },
  {
   "cell_type": "code",
   "execution_count": 42,
   "metadata": {
    "hidden": true
   },
   "outputs": [
    {
     "data": {
      "text/plain": [
       "SUV / Station Wagon    345\n",
       "Passenger Vehicle      327\n",
       "Sedan                   69\n",
       "Bus                     68\n",
       "Unknown                 53\n",
       "Com Veh, 6+ Tires       42\n",
       "Taxi                    36\n",
       "Pick-Up Truck           35\n",
       "Van                     34\n",
       "Bicycle                 26\n",
       "Other                   23\n",
       "Box Truck               19\n",
       "Dump                    18\n",
       "Nan                     16\n",
       "Com Veh, 4 Tires        11\n",
       "Motorcycle              10\n",
       "Tractor Truck           10\n",
       "Livery Vehicle           7\n",
       "Bike                     6\n",
       "Tanker                   4\n",
       "Tk                       3\n",
       "Concrete Mixer           3\n",
       "Garbage Or Refuse        3\n",
       "Ds                       3\n",
       "Fb                       3\n",
       "Tow Truck / Wrecker      3\n",
       "Flat Rack                2\n",
       "Bu                       2\n",
       "Scooter                  1\n",
       "Stake Or Rack            1\n",
       "Van (                    1\n",
       "E-Sco                    1\n",
       "Concr                    1\n",
       "Cb                       1\n",
       "Flat Bed                 1\n",
       "Tt                       1\n",
       "Ambul                    1\n",
       "Ll                       1\n",
       "Vn                       1\n",
       "Gg                       1\n",
       "Chassis Cab              1\n",
       "Convertible              1\n",
       "Armored Truck            1\n",
       "Dp                       1\n",
       "Tn                       1\n",
       "Name: vehicle_type_code1, dtype: int64"
      ]
     },
     "execution_count": 42,
     "metadata": {},
     "output_type": "execute_result"
    }
   ],
   "source": [
    "results_df.vehicle_type_code1.value_counts()"
   ]
  },
  {
   "cell_type": "code",
   "execution_count": 43,
   "metadata": {
    "hidden": true
   },
   "outputs": [
    {
     "data": {
      "text/plain": [
       "Unspecified                 545\n",
       "Driver Distraction          169\n",
       "Failure to Yield            156\n",
       "Pedestrian/Cyclist Error     48\n",
       "Passenger Distraction        48\n",
       "Traffic Control Ignored      38\n",
       "Alcohol Involvement          37\n",
       "Backing Unsafely             33\n",
       "Unsafe Speed                 21\n",
       "View Obstructed/Limited      11\n",
       "Other Vehicular               9\n",
       "Physical Disability           9\n",
       "Driver Inexperience           8\n",
       "Drugs (Illegal)               6\n",
       "Pavement Slippery             5\n",
       "Aggressive Driving            5\n",
       "Following Too Closely         4\n",
       "Prescription Medication       4\n",
       "Turning Improperly            4\n",
       "Lane Usage Improper           3\n",
       "Other Electronic Device       3\n",
       "Driverless Vehicle            3\n",
       "Outside Car Distraction       3\n",
       "Illnes                        3\n",
       "Passing Too Closely           2\n",
       "Lost Consciousness            2\n",
       "Glare                         2\n",
       "Oversized Vehicle             1\n",
       "Reacted to Other Vehicle      1\n",
       "Fatigued/Drowsy               1\n",
       "Fell Asleep                   1\n",
       "Unsafe Lane Changing          1\n",
       "Tow Hitch Defective           1\n",
       "Name: contributing_factor_vehicle_1, dtype: int64"
      ]
     },
     "execution_count": 43,
     "metadata": {},
     "output_type": "execute_result"
    }
   ],
   "source": [
    "results_df.contributing_factor_vehicle_1.value_counts()"
   ]
  },
  {
   "cell_type": "code",
   "execution_count": null,
   "metadata": {
    "hidden": true
   },
   "outputs": [],
   "source": []
  },
  {
   "cell_type": "code",
   "execution_count": null,
   "metadata": {
    "hidden": true
   },
   "outputs": [],
   "source": []
  },
  {
   "cell_type": "markdown",
   "metadata": {
    "hidden": true
   },
   "source": [
    "### Write to CSV"
   ]
  },
  {
   "cell_type": "code",
   "execution_count": 44,
   "metadata": {
    "hidden": true
   },
   "outputs": [],
   "source": [
    "results_df.to_csv('peds_death_data')"
   ]
  },
  {
   "cell_type": "markdown",
   "metadata": {
    "hidden": true
   },
   "source": [
    "Now that we have the data in a good place we can build out an interactive dashboard. "
   ]
  }
 ],
 "metadata": {
  "kernelspec": {
   "display_name": "Python 3",
   "language": "python",
   "name": "python3"
  },
  "language_info": {
   "codemirror_mode": {
    "name": "ipython",
    "version": 3
   },
   "file_extension": ".py",
   "mimetype": "text/x-python",
   "name": "python",
   "nbconvert_exporter": "python",
   "pygments_lexer": "ipython3",
   "version": "3.7.3"
  },
  "toc": {
   "base_numbering": 1,
   "nav_menu": {},
   "number_sections": true,
   "sideBar": false,
   "skip_h1_title": true,
   "title_cell": "Table of Contents",
   "title_sidebar": "Contents",
   "toc_cell": true,
   "toc_position": {},
   "toc_section_display": true,
   "toc_window_display": false
  }
 },
 "nbformat": 4,
 "nbformat_minor": 4
}
