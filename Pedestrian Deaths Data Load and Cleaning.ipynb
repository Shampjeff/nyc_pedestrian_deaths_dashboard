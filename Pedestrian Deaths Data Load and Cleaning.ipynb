{
 "cells": [
  {
   "cell_type": "markdown",
   "metadata": {
    "toc": true
   },
   "source": [
    "<h1>Table of Contents<span class=\"tocSkip\"></span></h1>\n",
    "<div class=\"toc\"><ul class=\"toc-item\"><li><span><a href=\"#Load-Keys\" data-toc-modified-id=\"Load-Keys-1\"><span class=\"toc-item-num\">1&nbsp;&nbsp;</span>Load Keys</a></span></li><li><span><a href=\"#Get-Data\" data-toc-modified-id=\"Get-Data-2\"><span class=\"toc-item-num\">2&nbsp;&nbsp;</span>Get Data</a></span></li><li><span><a href=\"#Borough-Assignment\" data-toc-modified-id=\"Borough-Assignment-3\"><span class=\"toc-item-num\">3&nbsp;&nbsp;</span>Borough Assignment</a></span><ul class=\"toc-item\"><li><span><a href=\"#Borough-Assignment-by-Road-Type\" data-toc-modified-id=\"Borough-Assignment-by-Road-Type-3.1\"><span class=\"toc-item-num\">3.1&nbsp;&nbsp;</span>Borough Assignment by Road Type</a></span></li></ul></li><li><span><a href=\"#Population-Data\" data-toc-modified-id=\"Population-Data-4\"><span class=\"toc-item-num\">4&nbsp;&nbsp;</span>Population Data</a></span></li><li><span><a href=\"#Cleaned-Final-Data\" data-toc-modified-id=\"Cleaned-Final-Data-5\"><span class=\"toc-item-num\">5&nbsp;&nbsp;</span>Cleaned Final Data</a></span><ul class=\"toc-item\"><li><span><a href=\"#Write-to-CSV\" data-toc-modified-id=\"Write-to-CSV-5.1\"><span class=\"toc-item-num\">5.1&nbsp;&nbsp;</span>Write to CSV</a></span></li></ul></li></ul></div>"
   ]
  },
  {
   "cell_type": "markdown",
   "metadata": {},
   "source": [
    "# Cyclist and Pedestrain Deaths NYC"
   ]
  },
  {
   "cell_type": "markdown",
   "metadata": {},
   "source": [
    "Collecting pedestrain and cyclist death by motor vehicle collision data via the NYC Open Data API. Not all boroughs have been properly assigned so we will attempt to assign as many as we can. Once the data is in a good place, we can build out an interactive dashboard in Bokeh to visualize."
   ]
  },
  {
   "cell_type": "markdown",
   "metadata": {
    "heading_collapsed": true
   },
   "source": [
    "## Load Keys"
   ]
  },
  {
   "cell_type": "code",
   "execution_count": 1,
   "metadata": {
    "hidden": true
   },
   "outputs": [],
   "source": [
    "import json\n",
    "with open('keys.json') as f:\n",
    "    keys = json.load(f)\n",
    "    nyc_od_token = keys['nycOD']"
   ]
  },
  {
   "cell_type": "markdown",
   "metadata": {
    "heading_collapsed": true
   },
   "source": [
    "## Get Data"
   ]
  },
  {
   "cell_type": "markdown",
   "metadata": {
    "hidden": true
   },
   "source": [
    "First we need to access the NYC Open Data API via an App Token. We can then easily pull in the data on motor vehicle incidents with pedestrains and cyclists. "
   ]
  },
  {
   "cell_type": "code",
   "execution_count": 2,
   "metadata": {
    "hidden": true
   },
   "outputs": [],
   "source": [
    "# make sure to install these packages before running:\n",
    "# pip install sodapy\n",
    "# pip install reverse_geocoder\n",
    "import numpy as np \n",
    "import pandas as pd \n",
    "import matplotlib.pyplot as plt\n",
    "import pandas as pd\n",
    "import os\n",
    "import re\n",
    "from sodapy import Socrata"
   ]
  },
  {
   "cell_type": "code",
   "execution_count": 3,
   "metadata": {
    "hidden": true
   },
   "outputs": [],
   "source": [
    "# Go to NYC Open Data website and create an App token to access the aPI\n",
    "client = Socrata(\"data.cityofnewyork.us\",\n",
    "                app_token=nyc_od_token)"
   ]
  },
  {
   "cell_type": "markdown",
   "metadata": {
    "hidden": true
   },
   "source": [
    "Socrata has a nice functionality where users can simply query, SQL style, to extract information. It seems like it only accepts basic SQL commands so we will pull down a few columns and use Pandas for the analysis. "
   ]
  },
  {
   "cell_type": "code",
   "execution_count": 4,
   "metadata": {
    "hidden": true
   },
   "outputs": [],
   "source": [
    "peds_query = \"\"\"\n",
    "SELECT  \n",
    "    borough, crash_date, location, \n",
    "    longitude, latitude, on_street_name, \n",
    "    off_street_name,cross_street_name,\n",
    "    number_of_pedestrians_killed, number_of_cyclist_killed,\n",
    "    contributing_factor_vehicle_1, vehicle_type_code1\n",
    "WHERE number_of_pedestrians_killed > 0\n",
    "   OR number_of_cyclist_killed > 0\n",
    "LIMIT 2000\n",
    "\"\"\"\n"
   ]
  },
  {
   "cell_type": "code",
   "execution_count": 5,
   "metadata": {
    "hidden": true
   },
   "outputs": [],
   "source": [
    "# Returned as JSON from API / converted to Python list of\n",
    "# dictionaries by sodapy.\n",
    "results = client.get(\"h9gi-nx95\",\n",
    "                    query=peds_query)"
   ]
  },
  {
   "cell_type": "code",
   "execution_count": 6,
   "metadata": {
    "hidden": true
   },
   "outputs": [],
   "source": [
    "# Convert to pandas DataFrame\n",
    "results_df = pd.DataFrame.from_records(results)"
   ]
  },
  {
   "cell_type": "code",
   "execution_count": 7,
   "metadata": {
    "hidden": true
   },
   "outputs": [
    {
     "data": {
      "text/plain": [
       "(1198, 12)"
      ]
     },
     "execution_count": 7,
     "metadata": {},
     "output_type": "execute_result"
    }
   ],
   "source": [
    "results_df.shape"
   ]
  },
  {
   "cell_type": "code",
   "execution_count": 8,
   "metadata": {
    "hidden": true
   },
   "outputs": [],
   "source": [
    "results_df['year'] = pd.DatetimeIndex(results_df['crash_date']).year\n",
    "results_df['month'] = pd.DatetimeIndex(results_df['crash_date']).month\n",
    "results_df['day'] = pd.DatetimeIndex(results_df['crash_date']).dayofweek\n",
    "results_df['date'] = pd.DatetimeIndex(results_df['crash_date']).date\n"
   ]
  },
  {
   "cell_type": "code",
   "execution_count": 9,
   "metadata": {
    "hidden": true
   },
   "outputs": [
    {
     "data": {
      "text/plain": [
       "2012     78\n",
       "2013    184\n",
       "2014    153\n",
       "2015    146\n",
       "2016    166\n",
       "2017    146\n",
       "2018    130\n",
       "2019    159\n",
       "2020     36\n",
       "Name: year, dtype: int64"
      ]
     },
     "execution_count": 9,
     "metadata": {},
     "output_type": "execute_result"
    }
   ],
   "source": [
    "results_df.year.value_counts(sort=False)"
   ]
  },
  {
   "cell_type": "code",
   "execution_count": 10,
   "metadata": {
    "hidden": true
   },
   "outputs": [
    {
     "data": {
      "text/plain": [
       "NaN              346\n",
       "BROOKLYN         281\n",
       "QUEENS           241\n",
       "MANHATTAN        192\n",
       "BRONX            107\n",
       "STATEN ISLAND     31\n",
       "Name: borough, dtype: int64"
      ]
     },
     "execution_count": 10,
     "metadata": {},
     "output_type": "execute_result"
    }
   ],
   "source": [
    "results_df.borough.value_counts(dropna=False)"
   ]
  },
  {
   "cell_type": "code",
   "execution_count": 11,
   "metadata": {
    "hidden": true
   },
   "outputs": [],
   "source": [
    "results_df = results_df[['borough','year','month','day', 'date',\n",
    "                         'location', 'latitude', 'longitude',\n",
    "                         'cross_street_name','off_street_name', \n",
    "                         'on_street_name', 'vehicle_type_code1', \n",
    "                         'contributing_factor_vehicle_1', \n",
    "                         'number_of_cyclist_killed', \n",
    "                         'number_of_pedestrians_killed']]"
   ]
  },
  {
   "cell_type": "markdown",
   "metadata": {
    "heading_collapsed": true
   },
   "source": [
    "## Borough Assignment"
   ]
  },
  {
   "cell_type": "markdown",
   "metadata": {
    "hidden": true
   },
   "source": [
    "Many incidents do not have borough assignments, but we want to the know borough assignment for downstream analysis. The data have longitude, latitude values that we can geo-locate, but not all cases have location data. "
   ]
  },
  {
   "cell_type": "code",
   "execution_count": 12,
   "metadata": {
    "hidden": true
   },
   "outputs": [],
   "source": [
    "import reverse_geocoder as rg"
   ]
  },
  {
   "cell_type": "code",
   "execution_count": 13,
   "metadata": {
    "hidden": true
   },
   "outputs": [],
   "source": [
    "def make_borough_gps(row):\n",
    "    dict_idx = 0 # one OrderedDict in a list\n",
    "    borough = 4 # Fourth key is borough\n",
    "    name = 1 # value index for key/value pair\n",
    "    cord = (row['coordinates'][1],row['coordinates'][0])\n",
    "    location = rg.search(cord)\n",
    "    label = list(location[dict_idx].items())[borough][name]\n",
    "    if label == 'Kings County': \n",
    "        return 'BROOKLYN'\n",
    "    if label == 'Queens County':\n",
    "        return 'QUEENS'\n",
    "    if label == 'New York County':\n",
    "        return 'MANHATTAN'\n",
    "    if label == 'Bronx':\n",
    "        return 'BRONX'\n",
    "    if label == 'Richmond County':\n",
    "        return 'STATEN ISLAND'\n",
    "    else: label = 'NOT NYC'\n",
    "    return label"
   ]
  },
  {
   "cell_type": "code",
   "execution_count": 14,
   "metadata": {
    "hidden": true
   },
   "outputs": [
    {
     "name": "stdout",
     "output_type": "stream",
     "text": [
      "Loading formatted geocoded file...\n"
     ]
    }
   ],
   "source": [
    "results_df['borough_gps'] = results_df['location'].dropna().apply(lambda x: make_borough_gps(x))"
   ]
  },
  {
   "cell_type": "code",
   "execution_count": 15,
   "metadata": {
    "hidden": true
   },
   "outputs": [
    {
     "data": {
      "text/plain": [
       "BROOKLYN         295\n",
       "QUEENS           286\n",
       "NOT NYC          188\n",
       "MANHATTAN        163\n",
       "NaN              145\n",
       "BRONX             96\n",
       "STATEN ISLAND     25\n",
       "Name: borough_gps, dtype: int64"
      ]
     },
     "execution_count": 15,
     "metadata": {},
     "output_type": "execute_result"
    }
   ],
   "source": [
    "results_df.borough_gps.value_counts(dropna=False)"
   ]
  },
  {
   "cell_type": "code",
   "execution_count": 16,
   "metadata": {
    "hidden": true
   },
   "outputs": [
    {
     "name": "stdout",
     "output_type": "stream",
     "text": [
      "<class 'pandas.core.frame.DataFrame'>\n",
      "Int64Index: 236 entries, 0 to 1187\n",
      "Data columns (total 2 columns):\n",
      "borough        0 non-null object\n",
      "borough_gps    236 non-null object\n",
      "dtypes: object(2)\n",
      "memory usage: 5.5+ KB\n"
     ]
    }
   ],
   "source": [
    "results_df[(results_df['borough'] != results_df['borough_gps']) & \n",
    "           (results_df['borough_gps'].isna() != True) & \n",
    "           (results_df['borough'].isna() == True)][['borough', 'borough_gps']].info()"
   ]
  },
  {
   "cell_type": "markdown",
   "metadata": {
    "hidden": true
   },
   "source": [
    "There are 236 places where we can fill by the GPS location uncontested. There are more unknowns to fill though since there are many incidents where the GPS location differs from the reported borough. There also places where no location data is present. "
   ]
  },
  {
   "cell_type": "code",
   "execution_count": 17,
   "metadata": {
    "hidden": true
   },
   "outputs": [
    {
     "name": "stdout",
     "output_type": "stream",
     "text": [
      "<class 'pandas.core.frame.DataFrame'>\n",
      "Int64Index: 249 entries, 9 to 1197\n",
      "Data columns (total 2 columns):\n",
      "borough        249 non-null object\n",
      "borough_gps    249 non-null object\n",
      "dtypes: object(2)\n",
      "memory usage: 5.8+ KB\n"
     ]
    }
   ],
   "source": [
    "results_df[(results_df['borough'] != results_df['borough_gps']) & \n",
    "           (results_df['borough_gps'].isna() != True) &\n",
    "           (results_df['borough'].isna() != True)][['borough', 'borough_gps']].info()"
   ]
  },
  {
   "cell_type": "markdown",
   "metadata": {
    "hidden": true
   },
   "source": [
    "249 incidents where the GPS location differs from the reported borough. We will keep the reported borough as the correct assignment. It should be noted that the police do not always report incidents and locations correctly, but for this analysis we will keep those assignments. "
   ]
  },
  {
   "cell_type": "code",
   "execution_count": 18,
   "metadata": {
    "hidden": true
   },
   "outputs": [],
   "source": [
    "results_df.loc[results_df.borough.isna() == True, 'borough'] = \\\n",
    "    results_df.loc[results_df.borough.isna() == True, 'borough_gps']"
   ]
  },
  {
   "cell_type": "code",
   "execution_count": 19,
   "metadata": {
    "hidden": true
   },
   "outputs": [
    {
     "data": {
      "text/plain": [
       "BROOKLYN         333\n",
       "QUEENS           308\n",
       "MANHATTAN        236\n",
       "BRONX            138\n",
       "NaN              110\n",
       "STATEN ISLAND     38\n",
       "NOT NYC           35\n",
       "Name: borough, dtype: int64"
      ]
     },
     "execution_count": 19,
     "metadata": {},
     "output_type": "execute_result"
    }
   ],
   "source": [
    "results_df.borough.value_counts(dropna=False)"
   ]
  },
  {
   "cell_type": "markdown",
   "metadata": {
    "hidden": true
   },
   "source": [
    "145 cases where there is no GPS or borough information. These cases could be decided by street names if those are present. We are down to the by-hand work. The geo-locator seems to have only medium reliable so we will keep it in here and potentially reassign borough based on street. "
   ]
  },
  {
   "cell_type": "markdown",
   "metadata": {
    "heading_collapsed": true,
    "hidden": true
   },
   "source": [
    "### Borough Assignment by Road Type"
   ]
  },
  {
   "cell_type": "markdown",
   "metadata": {
    "hidden": true
   },
   "source": [
    "We will now filter down the dataframe by street columns to determine borough assignment. This is mainly to try and break this down into small pieces for assignment. "
   ]
  },
  {
   "cell_type": "code",
   "execution_count": 20,
   "metadata": {
    "hidden": true,
    "scrolled": true
   },
   "outputs": [],
   "source": [
    "missing_boro_df = results_df.loc[(results_df.borough.isna() == True) |\n",
    "                                 (results_df.borough == 'NOT NYC'), :] \\\n",
    "                                [['location', 'on_street_name', 'off_street_name', \n",
    "                                  'cross_street_name', 'borough', 'borough_gps', \n",
    "                                  'latitude', 'longitude']]"
   ]
  },
  {
   "cell_type": "code",
   "execution_count": 21,
   "metadata": {
    "hidden": true,
    "scrolled": true
   },
   "outputs": [
    {
     "data": {
      "text/html": [
       "<div>\n",
       "<style scoped>\n",
       "    .dataframe tbody tr th:only-of-type {\n",
       "        vertical-align: middle;\n",
       "    }\n",
       "\n",
       "    .dataframe tbody tr th {\n",
       "        vertical-align: top;\n",
       "    }\n",
       "\n",
       "    .dataframe thead th {\n",
       "        text-align: right;\n",
       "    }\n",
       "</style>\n",
       "<table border=\"1\" class=\"dataframe\">\n",
       "  <thead>\n",
       "    <tr style=\"text-align: right;\">\n",
       "      <th></th>\n",
       "      <th>location</th>\n",
       "      <th>on_street_name</th>\n",
       "      <th>off_street_name</th>\n",
       "      <th>cross_street_name</th>\n",
       "      <th>borough</th>\n",
       "      <th>borough_gps</th>\n",
       "      <th>latitude</th>\n",
       "      <th>longitude</th>\n",
       "    </tr>\n",
       "  </thead>\n",
       "  <tbody>\n",
       "    <tr>\n",
       "      <th>5</th>\n",
       "      <td>{'type': 'Point', 'coordinates': [-73.98257, 4...</td>\n",
       "      <td>EAST 14 STREET</td>\n",
       "      <td>NaN</td>\n",
       "      <td>NaN</td>\n",
       "      <td>NOT NYC</td>\n",
       "      <td>NOT NYC</td>\n",
       "      <td>40.7313600</td>\n",
       "      <td>-73.9825700</td>\n",
       "    </tr>\n",
       "    <tr>\n",
       "      <th>102</th>\n",
       "      <td>{'type': 'Point', 'coordinates': [-73.988205, ...</td>\n",
       "      <td>PEARL STREET</td>\n",
       "      <td>NaN</td>\n",
       "      <td>NaN</td>\n",
       "      <td>NOT NYC</td>\n",
       "      <td>NOT NYC</td>\n",
       "      <td>40.6922650</td>\n",
       "      <td>-73.9882050</td>\n",
       "    </tr>\n",
       "    <tr>\n",
       "      <th>212</th>\n",
       "      <td>{'type': 'Point', 'coordinates': [-73.99266, 4...</td>\n",
       "      <td>EAST 16 STREET</td>\n",
       "      <td>NaN</td>\n",
       "      <td>NaN</td>\n",
       "      <td>NOT NYC</td>\n",
       "      <td>NOT NYC</td>\n",
       "      <td>40.7373280</td>\n",
       "      <td>-73.9926600</td>\n",
       "    </tr>\n",
       "    <tr>\n",
       "      <th>262</th>\n",
       "      <td>{'type': 'Point', 'coordinates': [-73.964966, ...</td>\n",
       "      <td>WEST 116 STREET</td>\n",
       "      <td>NaN</td>\n",
       "      <td>NaN</td>\n",
       "      <td>NOT NYC</td>\n",
       "      <td>NOT NYC</td>\n",
       "      <td>40.8084830</td>\n",
       "      <td>-73.9649660</td>\n",
       "    </tr>\n",
       "    <tr>\n",
       "      <th>277</th>\n",
       "      <td>NaN</td>\n",
       "      <td>BAY STREET</td>\n",
       "      <td>VICTORY BOULEVARD</td>\n",
       "      <td>NaN</td>\n",
       "      <td>NaN</td>\n",
       "      <td>NaN</td>\n",
       "      <td>NaN</td>\n",
       "      <td>NaN</td>\n",
       "    </tr>\n",
       "  </tbody>\n",
       "</table>\n",
       "</div>"
      ],
      "text/plain": [
       "                                              location  \\\n",
       "5    {'type': 'Point', 'coordinates': [-73.98257, 4...   \n",
       "102  {'type': 'Point', 'coordinates': [-73.988205, ...   \n",
       "212  {'type': 'Point', 'coordinates': [-73.99266, 4...   \n",
       "262  {'type': 'Point', 'coordinates': [-73.964966, ...   \n",
       "277                                                NaN   \n",
       "\n",
       "                       on_street_name                   off_street_name  \\\n",
       "5    EAST 14 STREET                                                 NaN   \n",
       "102  PEARL STREET                                                   NaN   \n",
       "212  EAST 16 STREET                                                 NaN   \n",
       "262  WEST 116 STREET                                                NaN   \n",
       "277  BAY STREET                        VICTORY BOULEVARD                  \n",
       "\n",
       "    cross_street_name  borough borough_gps    latitude    longitude  \n",
       "5                 NaN  NOT NYC     NOT NYC  40.7313600  -73.9825700  \n",
       "102               NaN  NOT NYC     NOT NYC  40.6922650  -73.9882050  \n",
       "212               NaN  NOT NYC     NOT NYC  40.7373280  -73.9926600  \n",
       "262               NaN  NOT NYC     NOT NYC  40.8084830  -73.9649660  \n",
       "277               NaN      NaN         NaN         NaN          NaN  "
      ]
     },
     "execution_count": 21,
     "metadata": {},
     "output_type": "execute_result"
    }
   ],
   "source": [
    "missing_boro_df[missing_boro_df.on_street_name.str.contains('STREET', regex=True, na=False)].head()"
   ]
  },
  {
   "cell_type": "code",
   "execution_count": 22,
   "metadata": {
    "hidden": true
   },
   "outputs": [],
   "source": [
    "def make_boro_assignment(df, index, borough):\n",
    "    df.loc[index:index+1, 'borough'] = borough\n",
    "    return df"
   ]
  },
  {
   "cell_type": "code",
   "execution_count": 23,
   "metadata": {
    "hidden": true
   },
   "outputs": [],
   "source": [
    "boros = ['MANHATTAN', \"BROOKLYN\", \"QUEENS\", \"STATEN ISLAND\", \"BRONX\"]\n",
    "results_df = make_boro_assignment(results_df, 176, boros[0])\n",
    "results_df = make_boro_assignment(results_df, 207, boros[1])\n",
    "results_df = make_boro_assignment(results_df, 716, boros[0])\n",
    "results_df = make_boro_assignment(results_df, 493, boros[0])\n",
    "results_df = make_boro_assignment(results_df, 723, boros[3])\n",
    "results_df = make_boro_assignment(results_df, 776, boros[2])\n",
    "results_df = make_boro_assignment(results_df, 816, boros[2])\n",
    "results_df = make_boro_assignment(results_df, 873, boros[1])\n",
    "results_df = make_boro_assignment(results_df, 969, boros[2])\n",
    "results_df = make_boro_assignment(results_df, 1036, boros[1])\n",
    "results_df = make_boro_assignment(results_df, 1065, boros[1])\n",
    "results_df = make_boro_assignment(results_df, 1177, boros[3])"
   ]
  },
  {
   "cell_type": "code",
   "execution_count": 24,
   "metadata": {
    "hidden": true,
    "scrolled": true
   },
   "outputs": [
    {
     "data": {
      "text/html": [
       "<div>\n",
       "<style scoped>\n",
       "    .dataframe tbody tr th:only-of-type {\n",
       "        vertical-align: middle;\n",
       "    }\n",
       "\n",
       "    .dataframe tbody tr th {\n",
       "        vertical-align: top;\n",
       "    }\n",
       "\n",
       "    .dataframe thead th {\n",
       "        text-align: right;\n",
       "    }\n",
       "</style>\n",
       "<table border=\"1\" class=\"dataframe\">\n",
       "  <thead>\n",
       "    <tr style=\"text-align: right;\">\n",
       "      <th></th>\n",
       "      <th>on_street_name</th>\n",
       "      <th>off_street_name</th>\n",
       "      <th>cross_street_name</th>\n",
       "      <th>borough</th>\n",
       "      <th>borough_gps</th>\n",
       "    </tr>\n",
       "  </thead>\n",
       "  <tbody>\n",
       "    <tr>\n",
       "      <th>36</th>\n",
       "      <td>BORDEN AVENUE</td>\n",
       "      <td>58 ROAD</td>\n",
       "      <td>NaN</td>\n",
       "      <td>NaN</td>\n",
       "      <td>NaN</td>\n",
       "    </tr>\n",
       "    <tr>\n",
       "      <th>46</th>\n",
       "      <td>JAMAICA AVENUE</td>\n",
       "      <td>80 STREET</td>\n",
       "      <td>NaN</td>\n",
       "      <td>NaN</td>\n",
       "      <td>NaN</td>\n",
       "    </tr>\n",
       "    <tr>\n",
       "      <th>216</th>\n",
       "      <td>11 AVENUE</td>\n",
       "      <td>NaN</td>\n",
       "      <td>NaN</td>\n",
       "      <td>NOT NYC</td>\n",
       "      <td>NOT NYC</td>\n",
       "    </tr>\n",
       "    <tr>\n",
       "      <th>241</th>\n",
       "      <td>AVENUE OF THE AMERICAS</td>\n",
       "      <td>WEST HOUSTON STREET</td>\n",
       "      <td>NaN</td>\n",
       "      <td>NaN</td>\n",
       "      <td>NaN</td>\n",
       "    </tr>\n",
       "    <tr>\n",
       "      <th>332</th>\n",
       "      <td>10 AVENUE</td>\n",
       "      <td>NaN</td>\n",
       "      <td>NaN</td>\n",
       "      <td>NOT NYC</td>\n",
       "      <td>NOT NYC</td>\n",
       "    </tr>\n",
       "  </tbody>\n",
       "</table>\n",
       "</div>"
      ],
      "text/plain": [
       "                       on_street_name                   off_street_name  \\\n",
       "36   BORDEN AVENUE                                              58 ROAD   \n",
       "46   JAMAICA AVENUE                    80 STREET                          \n",
       "216  11 AVENUE                                                      NaN   \n",
       "241  AVENUE OF THE AMERICAS            WEST HOUSTON STREET                \n",
       "332  10 AVENUE                                                      NaN   \n",
       "\n",
       "    cross_street_name  borough borough_gps  \n",
       "36                NaN      NaN         NaN  \n",
       "46                NaN      NaN         NaN  \n",
       "216               NaN  NOT NYC     NOT NYC  \n",
       "241               NaN      NaN         NaN  \n",
       "332               NaN  NOT NYC     NOT NYC  "
      ]
     },
     "execution_count": 24,
     "metadata": {},
     "output_type": "execute_result"
    }
   ],
   "source": [
    "avenue_df = results_df.loc[(results_df.borough.isna() == True) |\n",
    "                            (results_df.borough == 'NOT NYC'), :] \\\n",
    "                            [['on_street_name', 'off_street_name', \n",
    "                              'cross_street_name', 'borough', 'borough_gps']]\n",
    "avenue_df[(avenue_df.on_street_name.str.contains('AVENUE',regex=True, na=False))].head()"
   ]
  },
  {
   "cell_type": "code",
   "execution_count": 25,
   "metadata": {
    "hidden": true
   },
   "outputs": [],
   "source": [
    "results_df = make_boro_assignment(results_df, 27, boros[2])\n",
    "results_df = make_boro_assignment(results_df, 304, boros[0])\n",
    "results_df = make_boro_assignment(results_df, 399, boros[0])\n",
    "results_df = make_boro_assignment(results_df, 619, boros[4])\n",
    "results_df = make_boro_assignment(results_df, 637, boros[4])\n",
    "results_df = make_boro_assignment(results_df, 663, boros[1])\n",
    "results_df = make_boro_assignment(results_df, 673, boros[1])\n",
    "results_df = make_boro_assignment(results_df, 678, boros[3])\n",
    "results_df = make_boro_assignment(results_df, 739, boros[1])\n",
    "results_df = make_boro_assignment(results_df, 751, boros[2])\n",
    "results_df = make_boro_assignment(results_df, 755, boros[2])\n",
    "results_df = make_boro_assignment(results_df, 757, boros[2])\n",
    "results_df = make_boro_assignment(results_df, 764, boros[4])\n",
    "results_df = make_boro_assignment(results_df, 785, boros[1])\n",
    "results_df = make_boro_assignment(results_df, 790, boros[1])\n",
    "results_df = make_boro_assignment(results_df, 835, boros[2])\n",
    "results_df = make_boro_assignment(results_df, 891, boros[2])\n",
    "results_df = make_boro_assignment(results_df, 895, boros[1])\n",
    "results_df = make_boro_assignment(results_df, 914, boros[1])\n",
    "results_df = make_boro_assignment(results_df, 915, boros[2])\n",
    "results_df = make_boro_assignment(results_df, 953, boros[2])\n",
    "results_df = make_boro_assignment(results_df, 961, boros[4])"
   ]
  },
  {
   "cell_type": "code",
   "execution_count": 26,
   "metadata": {
    "hidden": true
   },
   "outputs": [
    {
     "data": {
      "text/html": [
       "<div>\n",
       "<style scoped>\n",
       "    .dataframe tbody tr th:only-of-type {\n",
       "        vertical-align: middle;\n",
       "    }\n",
       "\n",
       "    .dataframe tbody tr th {\n",
       "        vertical-align: top;\n",
       "    }\n",
       "\n",
       "    .dataframe thead th {\n",
       "        text-align: right;\n",
       "    }\n",
       "</style>\n",
       "<table border=\"1\" class=\"dataframe\">\n",
       "  <thead>\n",
       "    <tr style=\"text-align: right;\">\n",
       "      <th></th>\n",
       "      <th>on_street_name</th>\n",
       "      <th>off_street_name</th>\n",
       "      <th>cross_street_name</th>\n",
       "      <th>borough</th>\n",
       "      <th>borough_gps</th>\n",
       "    </tr>\n",
       "  </thead>\n",
       "  <tbody>\n",
       "    <tr>\n",
       "      <th>36</th>\n",
       "      <td>BORDEN AVENUE</td>\n",
       "      <td>58 ROAD</td>\n",
       "      <td>NaN</td>\n",
       "      <td>NaN</td>\n",
       "      <td>NaN</td>\n",
       "    </tr>\n",
       "    <tr>\n",
       "      <th>46</th>\n",
       "      <td>JAMAICA AVENUE</td>\n",
       "      <td>80 STREET</td>\n",
       "      <td>NaN</td>\n",
       "      <td>NaN</td>\n",
       "      <td>NaN</td>\n",
       "    </tr>\n",
       "    <tr>\n",
       "      <th>216</th>\n",
       "      <td>11 AVENUE</td>\n",
       "      <td>NaN</td>\n",
       "      <td>NaN</td>\n",
       "      <td>NOT NYC</td>\n",
       "      <td>NOT NYC</td>\n",
       "    </tr>\n",
       "    <tr>\n",
       "      <th>241</th>\n",
       "      <td>AVENUE OF THE AMERICAS</td>\n",
       "      <td>WEST HOUSTON STREET</td>\n",
       "      <td>NaN</td>\n",
       "      <td>NaN</td>\n",
       "      <td>NaN</td>\n",
       "    </tr>\n",
       "    <tr>\n",
       "      <th>332</th>\n",
       "      <td>10 AVENUE</td>\n",
       "      <td>NaN</td>\n",
       "      <td>NaN</td>\n",
       "      <td>NOT NYC</td>\n",
       "      <td>NOT NYC</td>\n",
       "    </tr>\n",
       "  </tbody>\n",
       "</table>\n",
       "</div>"
      ],
      "text/plain": [
       "                       on_street_name                   off_street_name  \\\n",
       "36   BORDEN AVENUE                                              58 ROAD   \n",
       "46   JAMAICA AVENUE                    80 STREET                          \n",
       "216  11 AVENUE                                                      NaN   \n",
       "241  AVENUE OF THE AMERICAS            WEST HOUSTON STREET                \n",
       "332  10 AVENUE                                                      NaN   \n",
       "\n",
       "    cross_street_name  borough borough_gps  \n",
       "36                NaN      NaN         NaN  \n",
       "46                NaN      NaN         NaN  \n",
       "216               NaN  NOT NYC     NOT NYC  \n",
       "241               NaN      NaN         NaN  \n",
       "332               NaN  NOT NYC     NOT NYC  "
      ]
     },
     "execution_count": 26,
     "metadata": {},
     "output_type": "execute_result"
    }
   ],
   "source": [
    "avenue_df = results_df.loc[(results_df.borough.isna() == True) |\n",
    "                            (results_df.borough == 'NOT NYC'), :] \\\n",
    "                            [['on_street_name', 'off_street_name', \n",
    "                              'cross_street_name', 'borough', 'borough_gps']]\n",
    "avenue_df[avenue_df.on_street_name.str.contains('AVENUE',regex=True, na=False)].head()"
   ]
  },
  {
   "cell_type": "code",
   "execution_count": 27,
   "metadata": {
    "hidden": true
   },
   "outputs": [],
   "source": [
    "results_df = make_boro_assignment(results_df, 959, boros[2])\n",
    "results_df = make_boro_assignment(results_df, 975, boros[1])\n",
    "results_df = make_boro_assignment(results_df, 1004, boros[2])\n",
    "results_df = make_boro_assignment(results_df, 1005, boros[4])\n",
    "results_df = make_boro_assignment(results_df, 1028, boros[0])\n",
    "results_df = make_boro_assignment(results_df, 1031, boros[1])\n",
    "results_df = make_boro_assignment(results_df, 1039, boros[1])\n",
    "results_df = make_boro_assignment(results_df, 1070, boros[4])\n",
    "results_df = make_boro_assignment(results_df, 1083, boros[1])\n",
    "results_df = make_boro_assignment(results_df, 1086, boros[2])\n",
    "results_df = make_boro_assignment(results_df, 1087, boros[2])\n",
    "results_df = make_boro_assignment(results_df, 1174, boros[0])"
   ]
  },
  {
   "cell_type": "code",
   "execution_count": 28,
   "metadata": {
    "hidden": true,
    "scrolled": true
   },
   "outputs": [
    {
     "data": {
      "text/html": [
       "<div>\n",
       "<style scoped>\n",
       "    .dataframe tbody tr th:only-of-type {\n",
       "        vertical-align: middle;\n",
       "    }\n",
       "\n",
       "    .dataframe tbody tr th {\n",
       "        vertical-align: top;\n",
       "    }\n",
       "\n",
       "    .dataframe thead th {\n",
       "        text-align: right;\n",
       "    }\n",
       "</style>\n",
       "<table border=\"1\" class=\"dataframe\">\n",
       "  <thead>\n",
       "    <tr style=\"text-align: right;\">\n",
       "      <th></th>\n",
       "      <th>location</th>\n",
       "      <th>on_street_name</th>\n",
       "      <th>off_street_name</th>\n",
       "      <th>cross_street_name</th>\n",
       "      <th>borough</th>\n",
       "      <th>borough_gps</th>\n",
       "      <th>latitude</th>\n",
       "      <th>longitude</th>\n",
       "    </tr>\n",
       "  </thead>\n",
       "  <tbody>\n",
       "    <tr>\n",
       "      <th>133</th>\n",
       "      <td>NaN</td>\n",
       "      <td>HIGHLAND BOULEVARD</td>\n",
       "      <td>VERMONT STREET</td>\n",
       "      <td>NaN</td>\n",
       "      <td>NaN</td>\n",
       "      <td>NaN</td>\n",
       "      <td>NaN</td>\n",
       "      <td>NaN</td>\n",
       "    </tr>\n",
       "    <tr>\n",
       "      <th>137</th>\n",
       "      <td>NaN</td>\n",
       "      <td>ROCKAWAY BOULEVARD</td>\n",
       "      <td>NaN</td>\n",
       "      <td>NaN</td>\n",
       "      <td>NaN</td>\n",
       "      <td>NaN</td>\n",
       "      <td>NaN</td>\n",
       "      <td>NaN</td>\n",
       "    </tr>\n",
       "    <tr>\n",
       "      <th>141</th>\n",
       "      <td>NaN</td>\n",
       "      <td>CONDUIT BOULEVARD</td>\n",
       "      <td>CRESCENT STREET</td>\n",
       "      <td>NaN</td>\n",
       "      <td>NaN</td>\n",
       "      <td>NaN</td>\n",
       "      <td>NaN</td>\n",
       "      <td>NaN</td>\n",
       "    </tr>\n",
       "    <tr>\n",
       "      <th>194</th>\n",
       "      <td>NaN</td>\n",
       "      <td>CROSSBAY BOULEVARD</td>\n",
       "      <td>149 AVENUE</td>\n",
       "      <td>NaN</td>\n",
       "      <td>NaN</td>\n",
       "      <td>NaN</td>\n",
       "      <td>NaN</td>\n",
       "      <td>NaN</td>\n",
       "    </tr>\n",
       "    <tr>\n",
       "      <th>326</th>\n",
       "      <td>{'type': 'Point', 'coordinates': [-73.824684, ...</td>\n",
       "      <td>PARSONS BOULEVARD</td>\n",
       "      <td>NaN</td>\n",
       "      <td>NaN</td>\n",
       "      <td>NOT NYC</td>\n",
       "      <td>NOT NYC</td>\n",
       "      <td>40.7730600</td>\n",
       "      <td>-73.8246840</td>\n",
       "    </tr>\n",
       "  </tbody>\n",
       "</table>\n",
       "</div>"
      ],
      "text/plain": [
       "                                              location  \\\n",
       "133                                                NaN   \n",
       "137                                                NaN   \n",
       "141                                                NaN   \n",
       "194                                                NaN   \n",
       "326  {'type': 'Point', 'coordinates': [-73.824684, ...   \n",
       "\n",
       "                       on_street_name                   off_street_name  \\\n",
       "133  HIGHLAND BOULEVARD                VERMONT STREET                     \n",
       "137  ROCKAWAY BOULEVARD                                             NaN   \n",
       "141  CONDUIT BOULEVARD                                  CRESCENT STREET   \n",
       "194  CROSSBAY BOULEVARD                149 AVENUE                         \n",
       "326  PARSONS BOULEVARD                                              NaN   \n",
       "\n",
       "    cross_street_name  borough borough_gps    latitude    longitude  \n",
       "133               NaN      NaN         NaN         NaN          NaN  \n",
       "137               NaN      NaN         NaN         NaN          NaN  \n",
       "141               NaN      NaN         NaN         NaN          NaN  \n",
       "194               NaN      NaN         NaN         NaN          NaN  \n",
       "326               NaN  NOT NYC     NOT NYC  40.7730600  -73.8246840  "
      ]
     },
     "execution_count": 28,
     "metadata": {},
     "output_type": "execute_result"
    }
   ],
   "source": [
    "blvd_df = results_df.loc[(results_df.borough.isna() == True) |\n",
    "              (results_df.borough == 'NOT NYC'), :] \\\n",
    "              [['location', 'on_street_name', 'off_street_name', \n",
    "              'cross_street_name', 'borough', 'borough_gps', \n",
    "              'latitude', 'longitude']]\n",
    "blvd_df[blvd_df.on_street_name.str.contains('BOULEVARD|SQUARE', regex=True, na=False)].head()"
   ]
  },
  {
   "cell_type": "code",
   "execution_count": 29,
   "metadata": {
    "hidden": true
   },
   "outputs": [],
   "source": [
    "# boros = ['MANHATTAN', \"BROOKLYN\", \"QUEENS\", \"STATEN ISLAND\", \"BRONX\"]\n",
    "results_df = make_boro_assignment(results_df, 82, boros[2])\n",
    "results_df = make_boro_assignment(results_df, 85, boros[1])\n",
    "results_df = make_boro_assignment(results_df, 223, boros[2])\n",
    "results_df = make_boro_assignment(results_df, 347, boros[2])\n",
    "results_df = make_boro_assignment(results_df, 453, boros[4])\n",
    "results_df = make_boro_assignment(results_df, 540, boros[2])\n",
    "results_df = make_boro_assignment(results_df, 553, boros[2])\n",
    "results_df = make_boro_assignment(results_df, 567, boros[2])\n",
    "results_df = make_boro_assignment(results_df, 644, boros[2])\n",
    "results_df = make_boro_assignment(results_df, 658, boros[2])\n",
    "results_df = make_boro_assignment(results_df, 680, boros[2])\n",
    "results_df = make_boro_assignment(results_df, 801, boros[1])\n",
    "results_df = make_boro_assignment(results_df, 833, boros[2])\n",
    "results_df = make_boro_assignment(results_df, 906, boros[0])\n",
    "results_df = make_boro_assignment(results_df, 917, boros[4])\n",
    "results_df = make_boro_assignment(results_df, 932, boros[2])\n",
    "results_df = make_boro_assignment(results_df, 1077, boros[2])\n",
    "results_df = make_boro_assignment(results_df, 1082, boros[3])\n",
    "results_df = make_boro_assignment(results_df, 1156, boros[1])\n",
    "results_df = make_boro_assignment(results_df, 1163, boros[2])"
   ]
  },
  {
   "cell_type": "code",
   "execution_count": 30,
   "metadata": {
    "hidden": true
   },
   "outputs": [
    {
     "data": {
      "text/html": [
       "<div>\n",
       "<style scoped>\n",
       "    .dataframe tbody tr th:only-of-type {\n",
       "        vertical-align: middle;\n",
       "    }\n",
       "\n",
       "    .dataframe tbody tr th {\n",
       "        vertical-align: top;\n",
       "    }\n",
       "\n",
       "    .dataframe thead th {\n",
       "        text-align: right;\n",
       "    }\n",
       "</style>\n",
       "<table border=\"1\" class=\"dataframe\">\n",
       "  <thead>\n",
       "    <tr style=\"text-align: right;\">\n",
       "      <th></th>\n",
       "      <th>location</th>\n",
       "      <th>on_street_name</th>\n",
       "      <th>off_street_name</th>\n",
       "      <th>cross_street_name</th>\n",
       "      <th>borough</th>\n",
       "      <th>borough_gps</th>\n",
       "    </tr>\n",
       "  </thead>\n",
       "  <tbody>\n",
       "    <tr>\n",
       "      <th>194</th>\n",
       "      <td>NaN</td>\n",
       "      <td>CROSSBAY BOULEVARD</td>\n",
       "      <td>149 AVENUE</td>\n",
       "      <td>NaN</td>\n",
       "      <td>NaN</td>\n",
       "      <td>NaN</td>\n",
       "    </tr>\n",
       "    <tr>\n",
       "      <th>788</th>\n",
       "      <td>NaN</td>\n",
       "      <td>WESTCHESTER AVENUE</td>\n",
       "      <td>EAST TREMONT AVENUE</td>\n",
       "      <td>NaN</td>\n",
       "      <td>NaN</td>\n",
       "      <td>NaN</td>\n",
       "    </tr>\n",
       "    <tr>\n",
       "      <th>885</th>\n",
       "      <td>NaN</td>\n",
       "      <td>165 STREET</td>\n",
       "      <td>HILLSIDE AVENUE</td>\n",
       "      <td>NaN</td>\n",
       "      <td>NaN</td>\n",
       "      <td>NaN</td>\n",
       "    </tr>\n",
       "    <tr>\n",
       "      <th>910</th>\n",
       "      <td>NaN</td>\n",
       "      <td>FLATBUSH AVENUE</td>\n",
       "      <td>DEKALB AVENUE</td>\n",
       "      <td>NaN</td>\n",
       "      <td>NaN</td>\n",
       "      <td>NaN</td>\n",
       "    </tr>\n",
       "    <tr>\n",
       "      <th>921</th>\n",
       "      <td>NaN</td>\n",
       "      <td>80 STREET</td>\n",
       "      <td>COOPER AVENUE</td>\n",
       "      <td>NaN</td>\n",
       "      <td>NaN</td>\n",
       "      <td>NaN</td>\n",
       "    </tr>\n",
       "    <tr>\n",
       "      <th>1018</th>\n",
       "      <td>NaN</td>\n",
       "      <td>UNION AVENUE</td>\n",
       "      <td>MEEKER AVENUE</td>\n",
       "      <td>NaN</td>\n",
       "      <td>NaN</td>\n",
       "      <td>NaN</td>\n",
       "    </tr>\n",
       "    <tr>\n",
       "      <th>1049</th>\n",
       "      <td>NaN</td>\n",
       "      <td>ASTORIA BOULEVARD</td>\n",
       "      <td>31 AVENUE</td>\n",
       "      <td>NaN</td>\n",
       "      <td>NaN</td>\n",
       "      <td>NaN</td>\n",
       "    </tr>\n",
       "    <tr>\n",
       "      <th>1057</th>\n",
       "      <td>NaN</td>\n",
       "      <td>DRUMGOOLE ROAD EAST</td>\n",
       "      <td>WOLCOTT AVENUE</td>\n",
       "      <td>NaN</td>\n",
       "      <td>NaN</td>\n",
       "      <td>NaN</td>\n",
       "    </tr>\n",
       "    <tr>\n",
       "      <th>1059</th>\n",
       "      <td>NaN</td>\n",
       "      <td>EASTERN PARKWAY</td>\n",
       "      <td>SAINT MARKS AVENUE</td>\n",
       "      <td>NaN</td>\n",
       "      <td>NaN</td>\n",
       "      <td>NaN</td>\n",
       "    </tr>\n",
       "    <tr>\n",
       "      <th>1069</th>\n",
       "      <td>NaN</td>\n",
       "      <td>WEBSTER AVENUE</td>\n",
       "      <td>CLAY AVENUE</td>\n",
       "      <td>NaN</td>\n",
       "      <td>NaN</td>\n",
       "      <td>NaN</td>\n",
       "    </tr>\n",
       "    <tr>\n",
       "      <th>1093</th>\n",
       "      <td>NaN</td>\n",
       "      <td>DIVISION AVENUE</td>\n",
       "      <td>MARCY AVENUE</td>\n",
       "      <td>NaN</td>\n",
       "      <td>NaN</td>\n",
       "      <td>NaN</td>\n",
       "    </tr>\n",
       "    <tr>\n",
       "      <th>1095</th>\n",
       "      <td>NaN</td>\n",
       "      <td>RICHMOND TERRACE</td>\n",
       "      <td>SIMONSON AVENUE</td>\n",
       "      <td>NaN</td>\n",
       "      <td>NaN</td>\n",
       "      <td>NaN</td>\n",
       "    </tr>\n",
       "    <tr>\n",
       "      <th>1152</th>\n",
       "      <td>NaN</td>\n",
       "      <td>WEST KINGSBRIDGE ROAD</td>\n",
       "      <td>RESERVOIR AVENUE</td>\n",
       "      <td>NaN</td>\n",
       "      <td>NaN</td>\n",
       "      <td>NaN</td>\n",
       "    </tr>\n",
       "    <tr>\n",
       "      <th>1179</th>\n",
       "      <td>NaN</td>\n",
       "      <td>82 STREET</td>\n",
       "      <td>4 AVENUE</td>\n",
       "      <td>NaN</td>\n",
       "      <td>NaN</td>\n",
       "      <td>NaN</td>\n",
       "    </tr>\n",
       "  </tbody>\n",
       "</table>\n",
       "</div>"
      ],
      "text/plain": [
       "     location                    on_street_name  \\\n",
       "194       NaN  CROSSBAY BOULEVARD                 \n",
       "788       NaN  WESTCHESTER AVENUE                 \n",
       "885       NaN  165 STREET                         \n",
       "910       NaN  FLATBUSH AVENUE                    \n",
       "921       NaN  80 STREET                          \n",
       "1018      NaN  UNION AVENUE                       \n",
       "1049      NaN  ASTORIA BOULEVARD                  \n",
       "1057      NaN  DRUMGOOLE ROAD EAST                \n",
       "1059      NaN  EASTERN PARKWAY                    \n",
       "1069      NaN  WEBSTER AVENUE                     \n",
       "1093      NaN  DIVISION AVENUE                    \n",
       "1095      NaN  RICHMOND TERRACE                   \n",
       "1152      NaN  WEST KINGSBRIDGE ROAD              \n",
       "1179      NaN  82 STREET                          \n",
       "\n",
       "                       off_street_name cross_street_name borough borough_gps  \n",
       "194   149 AVENUE                                     NaN     NaN         NaN  \n",
       "788   EAST TREMONT AVENUE                            NaN     NaN         NaN  \n",
       "885   HILLSIDE AVENUE                                NaN     NaN         NaN  \n",
       "910   DEKALB AVENUE                                  NaN     NaN         NaN  \n",
       "921   COOPER AVENUE                                  NaN     NaN         NaN  \n",
       "1018  MEEKER AVENUE                                  NaN     NaN         NaN  \n",
       "1049  31 AVENUE                                      NaN     NaN         NaN  \n",
       "1057  WOLCOTT AVENUE                                 NaN     NaN         NaN  \n",
       "1059  SAINT MARKS AVENUE                             NaN     NaN         NaN  \n",
       "1069  CLAY AVENUE                                    NaN     NaN         NaN  \n",
       "1093  MARCY AVENUE                                   NaN     NaN         NaN  \n",
       "1095  SIMONSON AVENUE                                NaN     NaN         NaN  \n",
       "1152  RESERVOIR AVENUE                               NaN     NaN         NaN  \n",
       "1179  4 AVENUE                                       NaN     NaN         NaN  "
      ]
     },
     "execution_count": 30,
     "metadata": {},
     "output_type": "execute_result"
    }
   ],
   "source": [
    "off_avenue = results_df.loc[(results_df.borough.isna() == True) |\n",
    "              (results_df.borough == 'NOT NYC'), :] \\\n",
    "              [['location', 'on_street_name', 'off_street_name', \n",
    "              'cross_street_name', 'borough', 'borough_gps']]\n",
    "off_avenue[off_avenue.off_street_name.str.contains('AVENUE', regex=True, na=False)]"
   ]
  },
  {
   "cell_type": "code",
   "execution_count": 31,
   "metadata": {
    "hidden": true
   },
   "outputs": [],
   "source": [
    "results_df = make_boro_assignment(results_df, 937, boros[1])\n",
    "results_df = make_boro_assignment(results_df, 939, boros[2])\n",
    "results_df = make_boro_assignment(results_df, 949, boros[3])\n",
    "results_df = make_boro_assignment(results_df, 968, boros[1])\n",
    "results_df = make_boro_assignment(results_df, 990, boros[3])\n",
    "results_df = make_boro_assignment(results_df, 1050, boros[4])"
   ]
  },
  {
   "cell_type": "code",
   "execution_count": 32,
   "metadata": {
    "hidden": true
   },
   "outputs": [],
   "source": [
    "results_df = make_boro_assignment(results_df, 73, boros[2])\n",
    "results_df = make_boro_assignment(results_df, 148, boros[2])\n",
    "results_df = make_boro_assignment(results_df, 234, boros[4])\n",
    "results_df = make_boro_assignment(results_df, 300, boros[2])\n",
    "results_df = make_boro_assignment(results_df, 308, boros[2])\n",
    "results_df = make_boro_assignment(results_df, 397, boros[2])\n",
    "results_df = make_boro_assignment(results_df, 401, boros[1])\n",
    "results_df = make_boro_assignment(results_df, 405, boros[0])\n",
    "results_df = make_boro_assignment(results_df, 468, boros[2])\n",
    "results_df = make_boro_assignment(results_df, 589, boros[0])"
   ]
  },
  {
   "cell_type": "code",
   "execution_count": 33,
   "metadata": {
    "hidden": true
   },
   "outputs": [],
   "source": [
    "results_df = make_boro_assignment(results_df, 546, boros[3])\n",
    "results_df = make_boro_assignment(results_df, 558, boros[2])\n",
    "results_df = make_boro_assignment(results_df, 591, boros[4])\n",
    "results_df = make_boro_assignment(results_df, 574, boros[2])\n",
    "results_df = make_boro_assignment(results_df, 594, boros[0])\n",
    "results_df = make_boro_assignment(results_df, 604, boros[4])\n",
    "results_df = make_boro_assignment(results_df, 628, boros[4])\n",
    "results_df = make_boro_assignment(results_df, 697, boros[3])\n",
    "results_df = make_boro_assignment(results_df, 762, boros[4])\n",
    "results_df = make_boro_assignment(results_df, 822, boros[4])\n",
    "results_df = make_boro_assignment(results_df, 850, boros[1])\n",
    "results_df = make_boro_assignment(results_df, 863, boros[2])\n",
    "results_df = make_boro_assignment(results_df, 969, boros[3])\n",
    "results_df = make_boro_assignment(results_df, 1009, boros[2])\n",
    "results_df = make_boro_assignment(results_df, 1038, boros[1])\n",
    "results_df = make_boro_assignment(results_df, 1041, boros[2])\n",
    "results_df = make_boro_assignment(results_df, 1138, boros[1])"
   ]
  },
  {
   "cell_type": "markdown",
   "metadata": {},
   "source": [
    "## Population Data"
   ]
  },
  {
   "cell_type": "markdown",
   "metadata": {},
   "source": [
    "QUEENS"
   ]
  },
  {
   "cell_type": "markdown",
   "metadata": {},
   "source": [
    "Year \n",
    "        Population\n",
    "                    Growth\n",
    "                            Growth Rate\n",
    "2018\t2,278,906\t-17,959\t-0.78%\n",
    "2017\t2,296,865\t-12,167\t-0.53%\n",
    "2016\t2,309,032\t1,418\t0.06%\n",
    "2015\t2,307,614\t7,466\t0.32%\n",
    "2014\t2,300,148\t11,954\t0.52%\n",
    "2013\t2,288,194\t15,449\t0.68%\n",
    "2012\t2,272,745\t17,186\t0.76%"
   ]
  },
  {
   "cell_type": "code",
   "execution_count": 53,
   "metadata": {},
   "outputs": [],
   "source": [
    "pop_queens = [\n",
    "    2272745,\n",
    "    2288194,\n",
    "    2300148,\n",
    "    2307614,\n",
    "    2309032,\n",
    "    2296865, \n",
    "    2278906,\n",
    "    2278906\n",
    "]"
   ]
  },
  {
   "cell_type": "markdown",
   "metadata": {},
   "source": [
    "Bronx"
   ]
  },
  {
   "cell_type": "markdown",
   "metadata": {},
   "source": [
    "Year \n",
    "        Population\n",
    "                    Growth\n",
    "                            Growth Rate\n",
    "2018\t1,432,132\t-7,593\t-0.53%\n",
    "2017\t1,439,725\t-5,512\t-0.38%\n",
    "2016\t1,445,237\t4,511\t0.31%\n",
    "2015\t1,440,726\t9,188\t0.64%\n",
    "2014\t1,431,538\t9,198\t0.65%\n",
    "2013\t1,422,340\t10,625\t0.75%\n",
    "2012\t1,411,715\t14,349\t1.03%"
   ]
  },
  {
   "cell_type": "code",
   "execution_count": 54,
   "metadata": {},
   "outputs": [],
   "source": [
    "pop_bronx = [\n",
    "    1411715,\n",
    "    1422340,\n",
    "    1431538,\n",
    "    1440726,\n",
    "    1445237,\n",
    "    1439725, \n",
    "    1432132,\n",
    "    1432132\n",
    "    ]"
   ]
  },
  {
   "cell_type": "markdown",
   "metadata": {},
   "source": [
    "manhattan"
   ]
  },
  {
   "cell_type": "markdown",
   "metadata": {},
   "source": [
    "Year \n",
    "        Population\n",
    "                    Growth\n",
    "                        Growth Rate\n",
    "2018\t1,628,701\t-1,079\t-0.07%\n",
    "2017\t1,629,780\t-6,481\t-0.40%\n",
    "2016\t1,636,261\t-452\t-0.03%\n",
    "2015\t1,636,713\t5,767\t0.35%\n",
    "2014\t1,630,946\t3,140\t0.19%\n",
    "2013\t1,627,806\t3,767\t0.23%\n",
    "2012\t1,624,039\t15,824\t0.98%"
   ]
  },
  {
   "cell_type": "code",
   "execution_count": 55,
   "metadata": {},
   "outputs": [],
   "source": [
    "pop_manhattan = [\n",
    "    1624039,\n",
    "    1627806,\n",
    "    1630946,\n",
    "    1636713,\n",
    "    1636261,\n",
    "    1629780, \n",
    "    1628701,\n",
    "    1628701\n",
    "    ]"
   ]
  },
  {
   "cell_type": "markdown",
   "metadata": {},
   "source": [
    "Brooklyn"
   ]
  },
  {
   "cell_type": "markdown",
   "metadata": {},
   "source": [
    "Year \n",
    "        Population\n",
    "                    Growth\n",
    "                        Growth Rate\n",
    "2018\t2,582,830\t-13,555\t-0.52%\n",
    "2017\t2,596,385\t-14,847\t-0.57%\n",
    "2016\t2,611,232\t625\t0.02%\n",
    "2015\t2,610,607\t7,927\t0.30%\n",
    "2014\t2,602,680\t14,179\t0.55%\n",
    "2013\t2,588,501\t19,625\t0.76%\n",
    "2012\t2,568,876\t28,054\t1.10%"
   ]
  },
  {
   "cell_type": "code",
   "execution_count": 56,
   "metadata": {},
   "outputs": [],
   "source": [
    "pop_brooklyn = [\n",
    "    2568876,\n",
    "    2588501,\n",
    "    2602680,\n",
    "    2610607,\n",
    "    2611232,\n",
    "    2596385, \n",
    "    2582830,\n",
    "    2582830\n",
    "]"
   ]
  },
  {
   "cell_type": "markdown",
   "metadata": {},
   "source": [
    "Staten Island"
   ]
  },
  {
   "cell_type": "markdown",
   "metadata": {},
   "source": [
    "Year \n",
    "        Population\n",
    "                Growth\n",
    "                        Growth Rate\n",
    "2018\t476,179\t663\t0.14%\n",
    "2017\t475,516\t1,302\t0.27%\n",
    "2016\t474,214\t1,693\t0.36%\n",
    "2015\t472,521\t446\t0.09%\n",
    "2014\t472,075\t177\t0.04%\n",
    "2013\t471,898\t1,241\t0.26%\n",
    "2012\t470,657\t-344\t-0.07%"
   ]
  },
  {
   "cell_type": "code",
   "execution_count": 57,
   "metadata": {},
   "outputs": [
    {
     "data": {
      "text/plain": [
       "['QUEENS', 'BROOKLYN', 'MANHATTAN', 'STATEN ISLAND', 'BRONX']"
      ]
     },
     "execution_count": 57,
     "metadata": {},
     "output_type": "execute_result"
    }
   ],
   "source": [
    "pop_si_ls = [\n",
    "    470657,\n",
    "    471898,\n",
    "    472075,\n",
    "    472521,\n",
    "    474214,\n",
    "    475516, \n",
    "    476179, \n",
    "    476179\n",
    "]\n",
    "years_ls = [2012, 2013, 2014, 2015, 2016, 2017, 2018, 2019]\n",
    "pop_lists = [pop_queens, pop_brooklyn, pop_manhattan, pop_si_ls, pop_bronx]\n",
    "borough_ls = results_df.borough.unique().tolist()\n",
    "borough_ls.pop(1)\n",
    "borough_ls.pop(2)\n",
    "borough_ls\n"
   ]
  },
  {
   "cell_type": "code",
   "execution_count": 58,
   "metadata": {},
   "outputs": [],
   "source": [
    "pop_df = pd.DataFrame(columns=['year', 'population'])\n",
    "for i in range(5):\n",
    "    boro_pop = pd.DataFrame(list(zip(years_ls, pop_lists[i])), columns=['year', 'population'])\n",
    "    boro_pop['borough'] = borough_ls[i]\n",
    "    pop_df = pd.concat([pop_df, boro_pop], ignore_index=True, sort=True)"
   ]
  },
  {
   "cell_type": "markdown",
   "metadata": {},
   "source": [
    "## Cleaned Final Data"
   ]
  },
  {
   "cell_type": "markdown",
   "metadata": {},
   "source": [
    "The remaining data that do not have borough assignments are locations that could be in one of several boroughs or is a collision that occured on an interstate highway such as I-87, I-495, I-278, etc. "
   ]
  },
  {
   "cell_type": "code",
   "execution_count": 40,
   "metadata": {},
   "outputs": [
    {
     "data": {
      "text/html": [
       "<div>\n",
       "<style scoped>\n",
       "    .dataframe tbody tr th:only-of-type {\n",
       "        vertical-align: middle;\n",
       "    }\n",
       "\n",
       "    .dataframe tbody tr th {\n",
       "        vertical-align: top;\n",
       "    }\n",
       "\n",
       "    .dataframe thead th {\n",
       "        text-align: right;\n",
       "    }\n",
       "</style>\n",
       "<table border=\"1\" class=\"dataframe\">\n",
       "  <thead>\n",
       "    <tr style=\"text-align: right;\">\n",
       "      <th></th>\n",
       "      <th>borough</th>\n",
       "      <th>year</th>\n",
       "      <th>month</th>\n",
       "      <th>day</th>\n",
       "      <th>date</th>\n",
       "      <th>location</th>\n",
       "      <th>latitude</th>\n",
       "      <th>longitude</th>\n",
       "      <th>cross_street_name</th>\n",
       "      <th>off_street_name</th>\n",
       "      <th>on_street_name</th>\n",
       "      <th>vehicle_type_code1</th>\n",
       "      <th>contributing_factor_vehicle_1</th>\n",
       "      <th>number_of_cyclist_killed</th>\n",
       "      <th>number_of_pedestrians_killed</th>\n",
       "      <th>borough_gps</th>\n",
       "    </tr>\n",
       "  </thead>\n",
       "  <tbody>\n",
       "    <tr>\n",
       "      <th>0</th>\n",
       "      <td>QUEENS</td>\n",
       "      <td>2013</td>\n",
       "      <td>2</td>\n",
       "      <td>5</td>\n",
       "      <td>2013-02-23</td>\n",
       "      <td>{'type': 'Point', 'coordinates': [-73.9544246,...</td>\n",
       "      <td>40.7624116</td>\n",
       "      <td>-73.9544246</td>\n",
       "      <td>NaN</td>\n",
       "      <td>NaN</td>\n",
       "      <td>NaN</td>\n",
       "      <td>PASSENGER VEHICLE</td>\n",
       "      <td>Unspecified</td>\n",
       "      <td>0</td>\n",
       "      <td>1</td>\n",
       "      <td>QUEENS</td>\n",
       "    </tr>\n",
       "    <tr>\n",
       "      <th>1</th>\n",
       "      <td>NaN</td>\n",
       "      <td>2013</td>\n",
       "      <td>2</td>\n",
       "      <td>4</td>\n",
       "      <td>2013-02-15</td>\n",
       "      <td>NaN</td>\n",
       "      <td>NaN</td>\n",
       "      <td>NaN</td>\n",
       "      <td>NaN</td>\n",
       "      <td>NaN</td>\n",
       "      <td>NaN</td>\n",
       "      <td>PASSENGER VEHICLE</td>\n",
       "      <td>Unspecified</td>\n",
       "      <td>0</td>\n",
       "      <td>1</td>\n",
       "      <td>NaN</td>\n",
       "    </tr>\n",
       "    <tr>\n",
       "      <th>2</th>\n",
       "      <td>QUEENS</td>\n",
       "      <td>2020</td>\n",
       "      <td>4</td>\n",
       "      <td>1</td>\n",
       "      <td>2020-04-14</td>\n",
       "      <td>{'type': 'Point', 'coordinates': [-73.83301, 4...</td>\n",
       "      <td>40.7478330</td>\n",
       "      <td>-73.8330100</td>\n",
       "      <td>NaN</td>\n",
       "      <td>NaN</td>\n",
       "      <td>COLLEGE POINT BOULEVARD</td>\n",
       "      <td>Station Wagon/Sport Utility Vehicle</td>\n",
       "      <td>Traffic Control Disregarded</td>\n",
       "      <td>0</td>\n",
       "      <td>1</td>\n",
       "      <td>QUEENS</td>\n",
       "    </tr>\n",
       "    <tr>\n",
       "      <th>3</th>\n",
       "      <td>QUEENS</td>\n",
       "      <td>2020</td>\n",
       "      <td>5</td>\n",
       "      <td>0</td>\n",
       "      <td>2020-05-18</td>\n",
       "      <td>{'type': 'Point', 'coordinates': [-73.827286, ...</td>\n",
       "      <td>40.7048570</td>\n",
       "      <td>-73.8272860</td>\n",
       "      <td>124-50    METROPOLITAN AVENUE</td>\n",
       "      <td>NaN</td>\n",
       "      <td>NaN</td>\n",
       "      <td>Box Truck</td>\n",
       "      <td>View Obstructed/Limited</td>\n",
       "      <td>0</td>\n",
       "      <td>1</td>\n",
       "      <td>QUEENS</td>\n",
       "    </tr>\n",
       "    <tr>\n",
       "      <th>4</th>\n",
       "      <td>BROOKLYN</td>\n",
       "      <td>2020</td>\n",
       "      <td>4</td>\n",
       "      <td>1</td>\n",
       "      <td>2020-04-28</td>\n",
       "      <td>{'type': 'Point', 'coordinates': [-73.95166, 4...</td>\n",
       "      <td>40.6430630</td>\n",
       "      <td>-73.9516600</td>\n",
       "      <td>NaN</td>\n",
       "      <td>CLARENDON ROAD</td>\n",
       "      <td>ROGERS AVENUE</td>\n",
       "      <td>Bus</td>\n",
       "      <td>Pedestrian/Bicyclist/Other Pedestrian Error/Co...</td>\n",
       "      <td>1</td>\n",
       "      <td>0</td>\n",
       "      <td>BROOKLYN</td>\n",
       "    </tr>\n",
       "  </tbody>\n",
       "</table>\n",
       "</div>"
      ],
      "text/plain": [
       "    borough  year  month  day        date  \\\n",
       "0    QUEENS  2013      2    5  2013-02-23   \n",
       "1       NaN  2013      2    4  2013-02-15   \n",
       "2    QUEENS  2020      4    1  2020-04-14   \n",
       "3    QUEENS  2020      5    0  2020-05-18   \n",
       "4  BROOKLYN  2020      4    1  2020-04-28   \n",
       "\n",
       "                                            location    latitude    longitude  \\\n",
       "0  {'type': 'Point', 'coordinates': [-73.9544246,...  40.7624116  -73.9544246   \n",
       "1                                                NaN         NaN          NaN   \n",
       "2  {'type': 'Point', 'coordinates': [-73.83301, 4...  40.7478330  -73.8330100   \n",
       "3  {'type': 'Point', 'coordinates': [-73.827286, ...  40.7048570  -73.8272860   \n",
       "4  {'type': 'Point', 'coordinates': [-73.95166, 4...  40.6430630  -73.9516600   \n",
       "\n",
       "                          cross_street_name off_street_name  \\\n",
       "0                                       NaN             NaN   \n",
       "1                                       NaN             NaN   \n",
       "2                                       NaN             NaN   \n",
       "3  124-50    METROPOLITAN AVENUE                        NaN   \n",
       "4                                       NaN  CLARENDON ROAD   \n",
       "\n",
       "                     on_street_name                   vehicle_type_code1  \\\n",
       "0                               NaN                    PASSENGER VEHICLE   \n",
       "1                               NaN                    PASSENGER VEHICLE   \n",
       "2  COLLEGE POINT BOULEVARD           Station Wagon/Sport Utility Vehicle   \n",
       "3                               NaN                            Box Truck   \n",
       "4  ROGERS AVENUE                                                     Bus   \n",
       "\n",
       "                       contributing_factor_vehicle_1 number_of_cyclist_killed  \\\n",
       "0                                        Unspecified                        0   \n",
       "1                                        Unspecified                        0   \n",
       "2                        Traffic Control Disregarded                        0   \n",
       "3                            View Obstructed/Limited                        0   \n",
       "4  Pedestrian/Bicyclist/Other Pedestrian Error/Co...                        1   \n",
       "\n",
       "  number_of_pedestrians_killed borough_gps  \n",
       "0                            1      QUEENS  \n",
       "1                            1         NaN  \n",
       "2                            1      QUEENS  \n",
       "3                            1      QUEENS  \n",
       "4                            0    BROOKLYN  "
      ]
     },
     "execution_count": 40,
     "metadata": {},
     "output_type": "execute_result"
    }
   ],
   "source": [
    "results_df.head()"
   ]
  },
  {
   "cell_type": "code",
   "execution_count": 41,
   "metadata": {},
   "outputs": [
    {
     "data": {
      "text/plain": [
       "QUEENS           348\n",
       "BROOKLYN         316\n",
       "MANHATTAN        225\n",
       "BRONX            146\n",
       "NaN               84\n",
       "STATEN ISLAND     50\n",
       "NOT NYC           29\n",
       "Name: borough, dtype: int64"
      ]
     },
     "execution_count": 41,
     "metadata": {},
     "output_type": "execute_result"
    }
   ],
   "source": [
    "results_df.borough.value_counts(dropna=False)"
   ]
  },
  {
   "cell_type": "markdown",
   "metadata": {},
   "source": [
    "Once most of the unassigned deaths were manually reassigned or reassigned by geo-location, Queens has moved into unfortunate position of most deaths for pedestrains and cyclists. "
   ]
  },
  {
   "cell_type": "code",
   "execution_count": 42,
   "metadata": {},
   "outputs": [
    {
     "name": "stdout",
     "output_type": "stream",
     "text": [
      "<class 'pandas.core.frame.DataFrame'>\n",
      "RangeIndex: 1198 entries, 0 to 1197\n",
      "Data columns (total 16 columns):\n",
      "borough                          1114 non-null object\n",
      "year                             1198 non-null int64\n",
      "month                            1198 non-null int64\n",
      "day                              1198 non-null int64\n",
      "date                             1198 non-null object\n",
      "location                         1053 non-null object\n",
      "latitude                         1053 non-null object\n",
      "longitude                        1053 non-null object\n",
      "cross_street_name                77 non-null object\n",
      "off_street_name                  910 non-null object\n",
      "on_street_name                   1082 non-null object\n",
      "vehicle_type_code1               1182 non-null object\n",
      "contributing_factor_vehicle_1    1187 non-null object\n",
      "number_of_cyclist_killed         1198 non-null object\n",
      "number_of_pedestrians_killed     1198 non-null object\n",
      "borough_gps                      1053 non-null object\n",
      "dtypes: int64(3), object(13)\n",
      "memory usage: 149.8+ KB\n"
     ]
    }
   ],
   "source": [
    "results_df.info()"
   ]
  },
  {
   "cell_type": "code",
   "execution_count": 43,
   "metadata": {},
   "outputs": [],
   "source": [
    "def apply_row_regex(df_col, old_str, replacement_str):\n",
    "    df_col.replace(to_replace=old_str,\n",
    "                    value= replacement_str,\n",
    "                    regex=True, \n",
    "                    inplace=True)\n",
    "    return df_col"
   ]
  },
  {
   "cell_type": "code",
   "execution_count": 44,
   "metadata": {},
   "outputs": [
    {
     "data": {
      "text/plain": [
       "0                    Unspecified\n",
       "1                    Unspecified\n",
       "2        Traffic Control Ignored\n",
       "3        View Obstructed/Limited\n",
       "4       Pedestrian/Cyclist Error\n",
       "5               Backing Unsafely\n",
       "6                    Unspecified\n",
       "7                    Unspecified\n",
       "8             Driver Distraction\n",
       "9            Alcohol Involvement\n",
       "10       Traffic Control Ignored\n",
       "11              Failure to Yield\n",
       "12                   Unspecified\n",
       "13              Failure to Yield\n",
       "14       View Obstructed/Limited\n",
       "15                   Unspecified\n",
       "16              Failure to Yield\n",
       "17                  Unsafe Speed\n",
       "18                  Unsafe Speed\n",
       "19            Driver Distraction\n",
       "20                   Unspecified\n",
       "21            Driver Distraction\n",
       "22            Driver Distraction\n",
       "23              Backing Unsafely\n",
       "24                   Unspecified\n",
       "25              Failure to Yield\n",
       "26              Failure to Yield\n",
       "27                   Unspecified\n",
       "28            Driver Distraction\n",
       "29      Pedestrian/Cyclist Error\n",
       "                  ...           \n",
       "1168     Traffic Control Ignored\n",
       "1169                 Unspecified\n",
       "1170                 Unspecified\n",
       "1171                 Unspecified\n",
       "1172     Other Electronic Device\n",
       "1173             Fatigued/Drowsy\n",
       "1174                 Unspecified\n",
       "1175                 Unspecified\n",
       "1176                 Unspecified\n",
       "1177                 Unspecified\n",
       "1178                 Unspecified\n",
       "1179            Failure to Yield\n",
       "1180                 Unspecified\n",
       "1181                 Unspecified\n",
       "1182                 Unspecified\n",
       "1183            Failure to Yield\n",
       "1184                 Unspecified\n",
       "1185                 Unspecified\n",
       "1186          Driver Distraction\n",
       "1187                 Unspecified\n",
       "1188         Physical Disability\n",
       "1189                 Unspecified\n",
       "1190                 Fell Asleep\n",
       "1191                 Unspecified\n",
       "1192     View Obstructed/Limited\n",
       "1193          Driver Distraction\n",
       "1194            Failure to Yield\n",
       "1195                 Unspecified\n",
       "1196     View Obstructed/Limited\n",
       "1197     Traffic Control Ignored\n",
       "Name: contributing_factor_vehicle_1, Length: 1198, dtype: object"
      ]
     },
     "execution_count": 44,
     "metadata": {},
     "output_type": "execute_result"
    }
   ],
   "source": [
    "apply_row_regex(results_df.contributing_factor_vehicle_1,\n",
    "                old_str=\"Driver Inattention/Distraction\",\n",
    "                replacement_str=\"Driver Distraction\")\n",
    "apply_row_regex(results_df.contributing_factor_vehicle_1,\n",
    "                old_str=\"Failure to Yield Right-of-Way\",\n",
    "                replacement_str=\"Failure to Yield\")\n",
    "apply_row_regex(results_df.contributing_factor_vehicle_1,\n",
    "                old_str=\"Traffic Control Disregarded\",\n",
    "                replacement_str=\"Traffic Control Ignored\")\n",
    "apply_row_regex(results_df.contributing_factor_vehicle_1,\n",
    "                old_str=\"Aggressive Driving/Road Rage\",\n",
    "                replacement_str=\"Aggressive Driving\")\n",
    "apply_row_regex(results_df.contributing_factor_vehicle_1,\n",
    "                old_str=\"Passing or Lane Usage Improper\",\n",
    "                replacement_str=\"Lane Usage Improper\")\n",
    "apply_row_regex(results_df.contributing_factor_vehicle_1,\n",
    "                old_str=\"Driverless/Runaway Vehicle\",\n",
    "                replacement_str=\"Driverless Vehicle\")\n",
    "apply_row_regex(results_df.contributing_factor_vehicle_1,\n",
    "                old_str=\"Reaction to Uninvolved Vehicle\",\n",
    "                replacement_str=\"Reacted to Other Vehicle\")\n",
    "apply_row_regex(results_df.contributing_factor_vehicle_1,\n",
    "                old_str=\"Pedestrian/Bicyclist/Other Pedestrian Error/Confusion\",\n",
    "                replacement_str=\"Pedestrian/Cyclist Error\")\n",
    "apply_row_regex(results_df.contributing_factor_vehicle_1,\n",
    "                old_str=\"Drugs \\(illegal\\)\",\n",
    "                replacement_str=\"Drugs (Illegal)\")"
   ]
  },
  {
   "cell_type": "code",
   "execution_count": 45,
   "metadata": {},
   "outputs": [],
   "source": [
    "results_df.vehicle_type_code1 = results_df.vehicle_type_code1 \\\n",
    "                 .replace(np.nan, 'NaN', regex=True)"
   ]
  },
  {
   "cell_type": "code",
   "execution_count": 46,
   "metadata": {},
   "outputs": [],
   "source": [
    "results_df.vehicle_type_code1 = results_df.vehicle_type_code1 \\\n",
    "                 .apply(lambda x: x.title())"
   ]
  },
  {
   "cell_type": "code",
   "execution_count": 47,
   "metadata": {},
   "outputs": [
    {
     "data": {
      "text/plain": [
       "0         Passenger Vehicle\n",
       "1         Passenger Vehicle\n",
       "2       SUV / Station Wagon\n",
       "3                 Box Truck\n",
       "4                       Bus\n",
       "5                      Taxi\n",
       "6                     Sedan\n",
       "7             Tractor Truck\n",
       "8       SUV / Station Wagon\n",
       "9       SUV / Station Wagon\n",
       "10               Motorcycle\n",
       "11            Pick-Up Truck\n",
       "12                    E-Sco\n",
       "13      SUV / Station Wagon\n",
       "14                     Dump\n",
       "15                    Sedan\n",
       "16      SUV / Station Wagon\n",
       "17                      Nan\n",
       "18                    Sedan\n",
       "19                      Van\n",
       "20                      Bus\n",
       "21                    Sedan\n",
       "22                      Bus\n",
       "23      SUV / Station Wagon\n",
       "24      SUV / Station Wagon\n",
       "25      SUV / Station Wagon\n",
       "26                    Sedan\n",
       "27      SUV / Station Wagon\n",
       "28           Concrete Mixer\n",
       "29                      Bus\n",
       "               ...         \n",
       "1168      Passenger Vehicle\n",
       "1169    SUV / Station Wagon\n",
       "1170      Passenger Vehicle\n",
       "1171      Passenger Vehicle\n",
       "1172      Passenger Vehicle\n",
       "1173      Passenger Vehicle\n",
       "1174    SUV / Station Wagon\n",
       "1175    SUV / Station Wagon\n",
       "1176    SUV / Station Wagon\n",
       "1177      Passenger Vehicle\n",
       "1178    SUV / Station Wagon\n",
       "1179    SUV / Station Wagon\n",
       "1180      Com Veh, 6+ Tires\n",
       "1181                    Bus\n",
       "1182    SUV / Station Wagon\n",
       "1183      Passenger Vehicle\n",
       "1184                Unknown\n",
       "1185      Passenger Vehicle\n",
       "1186    SUV / Station Wagon\n",
       "1187             Motorcycle\n",
       "1188      Passenger Vehicle\n",
       "1189    SUV / Station Wagon\n",
       "1190      Passenger Vehicle\n",
       "1191      Passenger Vehicle\n",
       "1192                  Other\n",
       "1193      Passenger Vehicle\n",
       "1194                    Bus\n",
       "1195    SUV / Station Wagon\n",
       "1196    SUV / Station Wagon\n",
       "1197                Unknown\n",
       "Name: vehicle_type_code1, Length: 1198, dtype: object"
      ]
     },
     "execution_count": 47,
     "metadata": {},
     "output_type": "execute_result"
    }
   ],
   "source": [
    "apply_row_regex(results_df.vehicle_type_code1,\n",
    "                old_str=\"Sport Utility / Station Wagon\",\n",
    "                replacement_str=\"SUV / Station Wagon\")\n",
    "apply_row_regex(results_df.vehicle_type_code1,\n",
    "                old_str=\"Station Wagon/Sport Utility Vehicle\",\n",
    "                replacement_str=\"SUV / Station Wagon\")\n",
    "apply_row_regex(results_df.vehicle_type_code1,\n",
    "                old_str='Large Com Veh\\(6 Or More Tires\\)',\n",
    "                replacement_str=\"Com Veh, 6+ Tires\")\n",
    "apply_row_regex(results_df.vehicle_type_code1,\n",
    "                old_str='Small Com Veh\\(4 Tires\\)',\n",
    "                replacement_str=\"Com Veh, 4 Tires\")\n",
    "apply_row_regex(results_df.vehicle_type_code1,\n",
    "                old_str=\"Tractor Truck Gasoline\",\n",
    "                replacement_str=\"Tractor Truck\")\n",
    "apply_row_regex(results_df.vehicle_type_code1,\n",
    "                old_str=\"Tractor Truck Diesel\",\n",
    "                replacement_str=\"Tractor Truck\")"
   ]
  },
  {
   "cell_type": "code",
   "execution_count": null,
   "metadata": {},
   "outputs": [],
   "source": []
  },
  {
   "cell_type": "markdown",
   "metadata": {},
   "source": [
    "### Write to CSV"
   ]
  },
  {
   "cell_type": "code",
   "execution_count": 60,
   "metadata": {},
   "outputs": [],
   "source": [
    "#results_df.to_csv('peds_death_data')\n",
    "#pop_df.to_csv('pop_borough')"
   ]
  },
  {
   "cell_type": "markdown",
   "metadata": {},
   "source": [
    "Now that we have the data in a good place we can build out an interactive dashboard. "
   ]
  }
 ],
 "metadata": {
  "kernelspec": {
   "display_name": "Python 3",
   "language": "python",
   "name": "python3"
  },
  "language_info": {
   "codemirror_mode": {
    "name": "ipython",
    "version": 3
   },
   "file_extension": ".py",
   "mimetype": "text/x-python",
   "name": "python",
   "nbconvert_exporter": "python",
   "pygments_lexer": "ipython3",
   "version": "3.7.9"
  },
  "toc": {
   "base_numbering": 1,
   "nav_menu": {},
   "number_sections": true,
   "sideBar": false,
   "skip_h1_title": true,
   "title_cell": "Table of Contents",
   "title_sidebar": "Contents",
   "toc_cell": true,
   "toc_position": {},
   "toc_section_display": true,
   "toc_window_display": false
  }
 },
 "nbformat": 4,
 "nbformat_minor": 4
}
